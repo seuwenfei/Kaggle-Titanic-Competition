{
 "cells": [
  {
   "cell_type": "markdown",
   "id": "a09a2a85",
   "metadata": {
    "papermill": {
     "duration": 0.020411,
     "end_time": "2023-03-08T07:47:18.915366",
     "exception": false,
     "start_time": "2023-03-08T07:47:18.894955",
     "status": "completed"
    },
    "tags": []
   },
   "source": [
    "# **1.0 Introduction**\n",
    "\n",
    "[Titanic - Machine Learning from Disaster](https://www.kaggle.com/c/titanic) is one of the machice learning competitions on Kaggle. In general, the Kaggle's machice learning competitions are a fun, structured way to practice applying skills to real-world problems. Hence, this notebook was used for the Titanic competition to develop a machine learning model that predicts which people survived the Titanic shipwreck.\n",
    "\n",
    "**Data Dictionary:**\n",
    "\n",
    "* `Survived` is the survival of Titanic passengers.\n",
    " * 0 = Not Survived\n",
    " * 1 = Survived\n",
    "* `Pclass` is ticket class \n",
    " * 1 = 1st Class\n",
    " * 2 = 2nd Class \n",
    " * 3 = 3rd Class\n",
    "* `Sex` is gender of Titanic passengers. \n",
    "* `Age` is the age in years \n",
    "* `SibSp` is the number of siblings / spouses aboard the Titanic. \n",
    "* `Parch` is the number of parents / children aboard the Titanic. \n",
    "* `Ticket` is the ticket number \n",
    "* `Fare` is the passenger fare \n",
    "* `Cabin` is the cabin number\n",
    "* `Embarked` is the port of Embarkation \n",
    "    * C = Cherbourg, \n",
    "    * Q = Queenstown \n",
    "    * S = Southampton"
   ]
  },
  {
   "cell_type": "code",
   "execution_count": 1,
   "id": "2ff2bd1e",
   "metadata": {
    "_cell_guid": "b1076dfc-b9ad-4769-8c92-a6c4dae69d19",
    "_uuid": "8f2839f25d086af736a60e9eeb907d3b93b6e0e5",
    "execution": {
     "iopub.execute_input": "2023-03-08T07:47:18.951601Z",
     "iopub.status.busy": "2023-03-08T07:47:18.951168Z",
     "iopub.status.idle": "2023-03-08T07:47:25.708013Z",
     "shell.execute_reply": "2023-03-08T07:47:25.706674Z"
    },
    "papermill": {
     "duration": 6.777794,
     "end_time": "2023-03-08T07:47:25.710481",
     "exception": false,
     "start_time": "2023-03-08T07:47:18.932687",
     "status": "completed"
    },
    "tags": []
   },
   "outputs": [
    {
     "name": "stdout",
     "output_type": "stream",
     "text": [
      "/kaggle/input/titanic/train.csv\n",
      "/kaggle/input/titanic/test.csv\n",
      "/kaggle/input/titanic/gender_submission.csv\n"
     ]
    }
   ],
   "source": [
    "import numpy as np \n",
    "import pandas as pd \n",
    "import matplotlib.pyplot as plt\n",
    "%matplotlib inline\n",
    "import seaborn as sns\n",
    "import tensorflow as tf\n",
    "import random\n",
    "\n",
    "sns.set_style('whitegrid')\n",
    "plt.rcParams['figure.figsize']=(10,5)\n",
    "\n",
    "import os\n",
    "for dirname, _, filenames in os.walk('/kaggle/input'):\n",
    "    for filename in filenames:\n",
    "        print(os.path.join(dirname, filename))"
   ]
  },
  {
   "cell_type": "markdown",
   "id": "47598533",
   "metadata": {
    "papermill": {
     "duration": 0.017118,
     "end_time": "2023-03-08T07:47:25.745043",
     "exception": false,
     "start_time": "2023-03-08T07:47:25.727925",
     "status": "completed"
    },
    "tags": []
   },
   "source": [
    "# **1.1 Load Data**"
   ]
  },
  {
   "cell_type": "code",
   "execution_count": 2,
   "id": "e19a41c8",
   "metadata": {
    "execution": {
     "iopub.execute_input": "2023-03-08T07:47:25.782241Z",
     "iopub.status.busy": "2023-03-08T07:47:25.781406Z",
     "iopub.status.idle": "2023-03-08T07:47:25.840204Z",
     "shell.execute_reply": "2023-03-08T07:47:25.838184Z"
    },
    "papermill": {
     "duration": 0.080461,
     "end_time": "2023-03-08T07:47:25.843019",
     "exception": false,
     "start_time": "2023-03-08T07:47:25.762558",
     "status": "completed"
    },
    "tags": []
   },
   "outputs": [
    {
     "name": "stdout",
     "output_type": "stream",
     "text": [
      "<class 'pandas.core.frame.DataFrame'>\n",
      "RangeIndex: 891 entries, 0 to 890\n",
      "Data columns (total 12 columns):\n",
      " #   Column       Non-Null Count  Dtype  \n",
      "---  ------       --------------  -----  \n",
      " 0   PassengerId  891 non-null    int64  \n",
      " 1   Survived     891 non-null    int64  \n",
      " 2   Pclass       891 non-null    int64  \n",
      " 3   Name         891 non-null    object \n",
      " 4   Sex          891 non-null    object \n",
      " 5   Age          714 non-null    float64\n",
      " 6   SibSp        891 non-null    int64  \n",
      " 7   Parch        891 non-null    int64  \n",
      " 8   Ticket       891 non-null    object \n",
      " 9   Fare         891 non-null    float64\n",
      " 10  Cabin        204 non-null    object \n",
      " 11  Embarked     889 non-null    object \n",
      "dtypes: float64(2), int64(5), object(5)\n",
      "memory usage: 83.7+ KB\n",
      "None\n",
      "\n",
      "\n",
      "<class 'pandas.core.frame.DataFrame'>\n",
      "RangeIndex: 418 entries, 0 to 417\n",
      "Data columns (total 11 columns):\n",
      " #   Column       Non-Null Count  Dtype  \n",
      "---  ------       --------------  -----  \n",
      " 0   PassengerId  418 non-null    int64  \n",
      " 1   Pclass       418 non-null    int64  \n",
      " 2   Name         418 non-null    object \n",
      " 3   Sex          418 non-null    object \n",
      " 4   Age          332 non-null    float64\n",
      " 5   SibSp        418 non-null    int64  \n",
      " 6   Parch        418 non-null    int64  \n",
      " 7   Ticket       418 non-null    object \n",
      " 8   Fare         417 non-null    float64\n",
      " 9   Cabin        91 non-null     object \n",
      " 10  Embarked     418 non-null    object \n",
      "dtypes: float64(2), int64(4), object(5)\n",
      "memory usage: 36.0+ KB\n",
      "None\n"
     ]
    }
   ],
   "source": [
    "train = pd.read_csv('/kaggle/input/titanic/train.csv')\n",
    "test = pd.read_csv('/kaggle/input/titanic/test.csv')\n",
    "\n",
    "print(train.info())\n",
    "print('\\n')\n",
    "print(test.info())"
   ]
  },
  {
   "cell_type": "markdown",
   "id": "f77c79ed",
   "metadata": {
    "papermill": {
     "duration": 0.017571,
     "end_time": "2023-03-08T07:47:25.878508",
     "exception": false,
     "start_time": "2023-03-08T07:47:25.860937",
     "status": "completed"
    },
    "tags": []
   },
   "source": [
    "* Training set has **891** passengers, while testing set has **418** passengers.\n",
    "* Training set has **12** features, while testing set has **11** features.\n",
    "* **Survived** is an additional feature in training set."
   ]
  },
  {
   "cell_type": "markdown",
   "id": "785b8985",
   "metadata": {
    "papermill": {
     "duration": 0.017231,
     "end_time": "2023-03-08T07:47:25.913045",
     "exception": false,
     "start_time": "2023-03-08T07:47:25.895814",
     "status": "completed"
    },
    "tags": []
   },
   "source": [
    "# **2.0 Exploratory Data Analysis & Feature Engineering**"
   ]
  },
  {
   "cell_type": "code",
   "execution_count": 3,
   "id": "de987757",
   "metadata": {
    "execution": {
     "iopub.execute_input": "2023-03-08T07:47:25.949885Z",
     "iopub.status.busy": "2023-03-08T07:47:25.949174Z",
     "iopub.status.idle": "2023-03-08T07:47:25.966073Z",
     "shell.execute_reply": "2023-03-08T07:47:25.964643Z"
    },
    "papermill": {
     "duration": 0.037756,
     "end_time": "2023-03-08T07:47:25.968323",
     "exception": false,
     "start_time": "2023-03-08T07:47:25.930567",
     "status": "completed"
    },
    "tags": []
   },
   "outputs": [
    {
     "name": "stdout",
     "output_type": "stream",
     "text": [
      "<class 'pandas.core.frame.DataFrame'>\n",
      "RangeIndex: 1309 entries, 0 to 1308\n",
      "Data columns (total 12 columns):\n",
      " #   Column       Non-Null Count  Dtype  \n",
      "---  ------       --------------  -----  \n",
      " 0   PassengerId  1309 non-null   int64  \n",
      " 1   Survived     891 non-null    float64\n",
      " 2   Pclass       1309 non-null   int64  \n",
      " 3   Name         1309 non-null   object \n",
      " 4   Sex          1309 non-null   object \n",
      " 5   Age          1046 non-null   float64\n",
      " 6   SibSp        1309 non-null   int64  \n",
      " 7   Parch        1309 non-null   int64  \n",
      " 8   Ticket       1309 non-null   object \n",
      " 9   Fare         1308 non-null   float64\n",
      " 10  Cabin        295 non-null    object \n",
      " 11  Embarked     1307 non-null   object \n",
      "dtypes: float64(3), int64(4), object(5)\n",
      "memory usage: 122.8+ KB\n"
     ]
    }
   ],
   "source": [
    "# Combine training and testing to the entire dataset\n",
    "entire_df = train.append(test).reset_index(drop=True)\n",
    "\n",
    "entire_df.info()"
   ]
  },
  {
   "cell_type": "markdown",
   "id": "f29d1819",
   "metadata": {
    "papermill": {
     "duration": 0.01692,
     "end_time": "2023-03-08T07:47:26.002254",
     "exception": false,
     "start_time": "2023-03-08T07:47:25.985334",
     "status": "completed"
    },
    "tags": []
   },
   "source": [
    "* The entire dataset has **1309** passengers."
   ]
  },
  {
   "cell_type": "code",
   "execution_count": 4,
   "id": "6b09111f",
   "metadata": {
    "execution": {
     "iopub.execute_input": "2023-03-08T07:47:26.039086Z",
     "iopub.status.busy": "2023-03-08T07:47:26.038747Z",
     "iopub.status.idle": "2023-03-08T07:47:26.061391Z",
     "shell.execute_reply": "2023-03-08T07:47:26.059794Z"
    },
    "papermill": {
     "duration": 0.045438,
     "end_time": "2023-03-08T07:47:26.065436",
     "exception": false,
     "start_time": "2023-03-08T07:47:26.019998",
     "status": "completed"
    },
    "tags": []
   },
   "outputs": [
    {
     "data": {
      "text/html": [
       "<div>\n",
       "<style scoped>\n",
       "    .dataframe tbody tr th:only-of-type {\n",
       "        vertical-align: middle;\n",
       "    }\n",
       "\n",
       "    .dataframe tbody tr th {\n",
       "        vertical-align: top;\n",
       "    }\n",
       "\n",
       "    .dataframe thead th {\n",
       "        text-align: right;\n",
       "    }\n",
       "</style>\n",
       "<table border=\"1\" class=\"dataframe\">\n",
       "  <thead>\n",
       "    <tr style=\"text-align: right;\">\n",
       "      <th></th>\n",
       "      <th>PassengerId</th>\n",
       "      <th>Survived</th>\n",
       "      <th>Pclass</th>\n",
       "      <th>Name</th>\n",
       "      <th>Sex</th>\n",
       "      <th>Age</th>\n",
       "      <th>SibSp</th>\n",
       "      <th>Parch</th>\n",
       "      <th>Ticket</th>\n",
       "      <th>Fare</th>\n",
       "      <th>Cabin</th>\n",
       "      <th>Embarked</th>\n",
       "    </tr>\n",
       "  </thead>\n",
       "  <tbody>\n",
       "    <tr>\n",
       "      <th>0</th>\n",
       "      <td>1</td>\n",
       "      <td>0.0</td>\n",
       "      <td>3</td>\n",
       "      <td>Braund, Mr. Owen Harris</td>\n",
       "      <td>male</td>\n",
       "      <td>22.0</td>\n",
       "      <td>1</td>\n",
       "      <td>0</td>\n",
       "      <td>A/5 21171</td>\n",
       "      <td>7.2500</td>\n",
       "      <td>NaN</td>\n",
       "      <td>S</td>\n",
       "    </tr>\n",
       "    <tr>\n",
       "      <th>1</th>\n",
       "      <td>2</td>\n",
       "      <td>1.0</td>\n",
       "      <td>1</td>\n",
       "      <td>Cumings, Mrs. John Bradley (Florence Briggs Th...</td>\n",
       "      <td>female</td>\n",
       "      <td>38.0</td>\n",
       "      <td>1</td>\n",
       "      <td>0</td>\n",
       "      <td>PC 17599</td>\n",
       "      <td>71.2833</td>\n",
       "      <td>C85</td>\n",
       "      <td>C</td>\n",
       "    </tr>\n",
       "    <tr>\n",
       "      <th>2</th>\n",
       "      <td>3</td>\n",
       "      <td>1.0</td>\n",
       "      <td>3</td>\n",
       "      <td>Heikkinen, Miss. Laina</td>\n",
       "      <td>female</td>\n",
       "      <td>26.0</td>\n",
       "      <td>0</td>\n",
       "      <td>0</td>\n",
       "      <td>STON/O2. 3101282</td>\n",
       "      <td>7.9250</td>\n",
       "      <td>NaN</td>\n",
       "      <td>S</td>\n",
       "    </tr>\n",
       "    <tr>\n",
       "      <th>3</th>\n",
       "      <td>4</td>\n",
       "      <td>1.0</td>\n",
       "      <td>1</td>\n",
       "      <td>Futrelle, Mrs. Jacques Heath (Lily May Peel)</td>\n",
       "      <td>female</td>\n",
       "      <td>35.0</td>\n",
       "      <td>1</td>\n",
       "      <td>0</td>\n",
       "      <td>113803</td>\n",
       "      <td>53.1000</td>\n",
       "      <td>C123</td>\n",
       "      <td>S</td>\n",
       "    </tr>\n",
       "    <tr>\n",
       "      <th>4</th>\n",
       "      <td>5</td>\n",
       "      <td>0.0</td>\n",
       "      <td>3</td>\n",
       "      <td>Allen, Mr. William Henry</td>\n",
       "      <td>male</td>\n",
       "      <td>35.0</td>\n",
       "      <td>0</td>\n",
       "      <td>0</td>\n",
       "      <td>373450</td>\n",
       "      <td>8.0500</td>\n",
       "      <td>NaN</td>\n",
       "      <td>S</td>\n",
       "    </tr>\n",
       "  </tbody>\n",
       "</table>\n",
       "</div>"
      ],
      "text/plain": [
       "   PassengerId  Survived  Pclass  \\\n",
       "0            1       0.0       3   \n",
       "1            2       1.0       1   \n",
       "2            3       1.0       3   \n",
       "3            4       1.0       1   \n",
       "4            5       0.0       3   \n",
       "\n",
       "                                                Name     Sex   Age  SibSp  \\\n",
       "0                            Braund, Mr. Owen Harris    male  22.0      1   \n",
       "1  Cumings, Mrs. John Bradley (Florence Briggs Th...  female  38.0      1   \n",
       "2                             Heikkinen, Miss. Laina  female  26.0      0   \n",
       "3       Futrelle, Mrs. Jacques Heath (Lily May Peel)  female  35.0      1   \n",
       "4                           Allen, Mr. William Henry    male  35.0      0   \n",
       "\n",
       "   Parch            Ticket     Fare Cabin Embarked  \n",
       "0      0         A/5 21171   7.2500   NaN        S  \n",
       "1      0          PC 17599  71.2833   C85        C  \n",
       "2      0  STON/O2. 3101282   7.9250   NaN        S  \n",
       "3      0            113803  53.1000  C123        S  \n",
       "4      0            373450   8.0500   NaN        S  "
      ]
     },
     "execution_count": 4,
     "metadata": {},
     "output_type": "execute_result"
    }
   ],
   "source": [
    "entire_df.head()"
   ]
  },
  {
   "cell_type": "code",
   "execution_count": 5,
   "id": "1491ed3a",
   "metadata": {
    "execution": {
     "iopub.execute_input": "2023-03-08T07:47:26.103871Z",
     "iopub.status.busy": "2023-03-08T07:47:26.103194Z",
     "iopub.status.idle": "2023-03-08T07:47:26.117019Z",
     "shell.execute_reply": "2023-03-08T07:47:26.116214Z"
    },
    "papermill": {
     "duration": 0.034744,
     "end_time": "2023-03-08T07:47:26.118906",
     "exception": false,
     "start_time": "2023-03-08T07:47:26.084162",
     "status": "completed"
    },
    "tags": []
   },
   "outputs": [
    {
     "data": {
      "text/html": [
       "<div>\n",
       "<style scoped>\n",
       "    .dataframe tbody tr th:only-of-type {\n",
       "        vertical-align: middle;\n",
       "    }\n",
       "\n",
       "    .dataframe tbody tr th {\n",
       "        vertical-align: top;\n",
       "    }\n",
       "\n",
       "    .dataframe thead th {\n",
       "        text-align: right;\n",
       "    }\n",
       "</style>\n",
       "<table border=\"1\" class=\"dataframe\">\n",
       "  <thead>\n",
       "    <tr style=\"text-align: right;\">\n",
       "      <th></th>\n",
       "      <th>PassengerId</th>\n",
       "      <th>Survived</th>\n",
       "      <th>Pclass</th>\n",
       "      <th>Name</th>\n",
       "      <th>Sex</th>\n",
       "      <th>Age</th>\n",
       "      <th>SibSp</th>\n",
       "      <th>Parch</th>\n",
       "      <th>Ticket</th>\n",
       "      <th>Fare</th>\n",
       "      <th>Cabin</th>\n",
       "      <th>Embarked</th>\n",
       "    </tr>\n",
       "  </thead>\n",
       "  <tbody>\n",
       "    <tr>\n",
       "      <th>1304</th>\n",
       "      <td>1305</td>\n",
       "      <td>NaN</td>\n",
       "      <td>3</td>\n",
       "      <td>Spector, Mr. Woolf</td>\n",
       "      <td>male</td>\n",
       "      <td>NaN</td>\n",
       "      <td>0</td>\n",
       "      <td>0</td>\n",
       "      <td>A.5. 3236</td>\n",
       "      <td>8.0500</td>\n",
       "      <td>NaN</td>\n",
       "      <td>S</td>\n",
       "    </tr>\n",
       "    <tr>\n",
       "      <th>1305</th>\n",
       "      <td>1306</td>\n",
       "      <td>NaN</td>\n",
       "      <td>1</td>\n",
       "      <td>Oliva y Ocana, Dona. Fermina</td>\n",
       "      <td>female</td>\n",
       "      <td>39.0</td>\n",
       "      <td>0</td>\n",
       "      <td>0</td>\n",
       "      <td>PC 17758</td>\n",
       "      <td>108.9000</td>\n",
       "      <td>C105</td>\n",
       "      <td>C</td>\n",
       "    </tr>\n",
       "    <tr>\n",
       "      <th>1306</th>\n",
       "      <td>1307</td>\n",
       "      <td>NaN</td>\n",
       "      <td>3</td>\n",
       "      <td>Saether, Mr. Simon Sivertsen</td>\n",
       "      <td>male</td>\n",
       "      <td>38.5</td>\n",
       "      <td>0</td>\n",
       "      <td>0</td>\n",
       "      <td>SOTON/O.Q. 3101262</td>\n",
       "      <td>7.2500</td>\n",
       "      <td>NaN</td>\n",
       "      <td>S</td>\n",
       "    </tr>\n",
       "    <tr>\n",
       "      <th>1307</th>\n",
       "      <td>1308</td>\n",
       "      <td>NaN</td>\n",
       "      <td>3</td>\n",
       "      <td>Ware, Mr. Frederick</td>\n",
       "      <td>male</td>\n",
       "      <td>NaN</td>\n",
       "      <td>0</td>\n",
       "      <td>0</td>\n",
       "      <td>359309</td>\n",
       "      <td>8.0500</td>\n",
       "      <td>NaN</td>\n",
       "      <td>S</td>\n",
       "    </tr>\n",
       "    <tr>\n",
       "      <th>1308</th>\n",
       "      <td>1309</td>\n",
       "      <td>NaN</td>\n",
       "      <td>3</td>\n",
       "      <td>Peter, Master. Michael J</td>\n",
       "      <td>male</td>\n",
       "      <td>NaN</td>\n",
       "      <td>1</td>\n",
       "      <td>1</td>\n",
       "      <td>2668</td>\n",
       "      <td>22.3583</td>\n",
       "      <td>NaN</td>\n",
       "      <td>C</td>\n",
       "    </tr>\n",
       "  </tbody>\n",
       "</table>\n",
       "</div>"
      ],
      "text/plain": [
       "      PassengerId  Survived  Pclass                          Name     Sex  \\\n",
       "1304         1305       NaN       3            Spector, Mr. Woolf    male   \n",
       "1305         1306       NaN       1  Oliva y Ocana, Dona. Fermina  female   \n",
       "1306         1307       NaN       3  Saether, Mr. Simon Sivertsen    male   \n",
       "1307         1308       NaN       3           Ware, Mr. Frederick    male   \n",
       "1308         1309       NaN       3      Peter, Master. Michael J    male   \n",
       "\n",
       "       Age  SibSp  Parch              Ticket      Fare Cabin Embarked  \n",
       "1304   NaN      0      0           A.5. 3236    8.0500   NaN        S  \n",
       "1305  39.0      0      0            PC 17758  108.9000  C105        C  \n",
       "1306  38.5      0      0  SOTON/O.Q. 3101262    7.2500   NaN        S  \n",
       "1307   NaN      0      0              359309    8.0500   NaN        S  \n",
       "1308   NaN      1      1                2668   22.3583   NaN        C  "
      ]
     },
     "execution_count": 5,
     "metadata": {},
     "output_type": "execute_result"
    }
   ],
   "source": [
    "entire_df.tail()"
   ]
  },
  {
   "cell_type": "code",
   "execution_count": 6,
   "id": "84fff63b",
   "metadata": {
    "execution": {
     "iopub.execute_input": "2023-03-08T07:47:26.156901Z",
     "iopub.status.busy": "2023-03-08T07:47:26.156308Z",
     "iopub.status.idle": "2023-03-08T07:47:26.178365Z",
     "shell.execute_reply": "2023-03-08T07:47:26.177509Z"
    },
    "papermill": {
     "duration": 0.043994,
     "end_time": "2023-03-08T07:47:26.180883",
     "exception": false,
     "start_time": "2023-03-08T07:47:26.136889",
     "status": "completed"
    },
    "tags": []
   },
   "outputs": [
    {
     "name": "stdout",
     "output_type": "stream",
     "text": [
      "PassengerId:\n",
      "[   1    2    3 ... 1307 1308 1309]\n",
      "\n",
      "Survived:\n",
      "[ 0.  1. nan]\n",
      "\n",
      "Pclass:\n",
      "[3 1 2]\n",
      "\n",
      "Name:\n",
      "['Braund, Mr. Owen Harris'\n",
      " 'Cumings, Mrs. John Bradley (Florence Briggs Thayer)'\n",
      " 'Heikkinen, Miss. Laina' ... 'Saether, Mr. Simon Sivertsen'\n",
      " 'Ware, Mr. Frederick' 'Peter, Master. Michael J']\n",
      "\n",
      "Sex:\n",
      "['male' 'female']\n",
      "\n",
      "Age:\n",
      "[22.   38.   26.   35.     nan 54.    2.   27.   14.    4.   58.   20.\n",
      " 39.   55.   31.   34.   15.   28.    8.   19.   40.   66.   42.   21.\n",
      " 18.    3.    7.   49.   29.   65.   28.5   5.   11.   45.   17.   32.\n",
      " 16.   25.    0.83 30.   33.   23.   24.   46.   59.   71.   37.   47.\n",
      " 14.5  70.5  32.5  12.    9.   36.5  51.   55.5  40.5  44.    1.   61.\n",
      " 56.   50.   36.   45.5  20.5  62.   41.   52.   63.   23.5   0.92 43.\n",
      " 60.   10.   64.   13.   48.    0.75 53.   57.   80.   70.   24.5   6.\n",
      "  0.67 30.5   0.42 34.5  74.   22.5  18.5  67.   76.   26.5  60.5  11.5\n",
      "  0.33  0.17 38.5 ]\n",
      "\n",
      "SibSp:\n",
      "[1 0 3 4 2 5 8]\n",
      "\n",
      "Parch:\n",
      "[0 1 2 5 3 4 6 9]\n",
      "\n",
      "Ticket:\n",
      "['A/5 21171' 'PC 17599' 'STON/O2. 3101282' '113803' '373450' '330877'\n",
      " '17463' '349909' '347742' '237736' 'PP 9549' '113783' 'A/5. 2151'\n",
      " '347082' '350406' '248706' '382652' '244373' '345763' '2649' '239865'\n",
      " '248698' '330923' '113788' '347077' '2631' '19950' '330959' '349216'\n",
      " 'PC 17601' 'PC 17569' '335677' 'C.A. 24579' 'PC 17604' '113789' '2677'\n",
      " 'A./5. 2152' '345764' '2651' '7546' '11668' '349253' 'SC/Paris 2123'\n",
      " '330958' 'S.C./A.4. 23567' '370371' '14311' '2662' '349237' '3101295'\n",
      " 'A/4. 39886' 'PC 17572' '2926' '113509' '19947' 'C.A. 31026' '2697'\n",
      " 'C.A. 34651' 'CA 2144' '2669' '113572' '36973' '347088' 'PC 17605' '2661'\n",
      " 'C.A. 29395' 'S.P. 3464' '3101281' '315151' 'C.A. 33111' 'S.O.C. 14879'\n",
      " '2680' '1601' '348123' '349208' '374746' '248738' '364516' '345767'\n",
      " '345779' '330932' '113059' 'SO/C 14885' '3101278' 'W./C. 6608'\n",
      " 'SOTON/OQ 392086' '343275' '343276' '347466' 'W.E.P. 5734' 'C.A. 2315'\n",
      " '364500' '374910' 'PC 17754' 'PC 17759' '231919' '244367' '349245'\n",
      " '349215' '35281' '7540' '3101276' '349207' '343120' '312991' '349249'\n",
      " '371110' '110465' '2665' '324669' '4136' '2627' 'STON/O 2. 3101294'\n",
      " '370369' 'PC 17558' 'A4. 54510' '27267' '370372' 'C 17369' '2668'\n",
      " '347061' '349241' 'SOTON/O.Q. 3101307' 'A/5. 3337' '228414' 'C.A. 29178'\n",
      " 'SC/PARIS 2133' '11752' '7534' 'PC 17593' '2678' '347081'\n",
      " 'STON/O2. 3101279' '365222' '231945' 'C.A. 33112' '350043' '230080'\n",
      " '244310' 'S.O.P. 1166' '113776' 'A.5. 11206' 'A/5. 851' 'Fa 265302'\n",
      " 'PC 17597' '35851' 'SOTON/OQ 392090' '315037' 'CA. 2343' '371362'\n",
      " 'C.A. 33595' '347068' '315093' '363291' '113505' 'PC 17318' '111240'\n",
      " 'STON/O 2. 3101280' '17764' '350404' '4133' 'PC 17595' '250653' 'LINE'\n",
      " 'SC/PARIS 2131' '230136' '315153' '113767' '370365' '111428' '364849'\n",
      " '349247' '234604' '28424' '350046' 'PC 17610' '368703' '4579' '370370'\n",
      " '248747' '345770' '3101264' '2628' 'A/5 3540' '347054' '2699' '367231'\n",
      " '112277' 'SOTON/O.Q. 3101311' 'F.C.C. 13528' 'A/5 21174' '250646'\n",
      " '367229' '35273' 'STON/O2. 3101283' '243847' '11813' 'W/C 14208'\n",
      " 'SOTON/OQ 392089' '220367' '21440' '349234' '19943' 'PP 4348' 'SW/PP 751'\n",
      " 'A/5 21173' '236171' '347067' '237442' 'C.A. 29566' 'W./C. 6609' '26707'\n",
      " 'C.A. 31921' '28665' 'SCO/W 1585' '367230' 'W./C. 14263'\n",
      " 'STON/O 2. 3101275' '2694' '19928' '347071' '250649' '11751' '244252'\n",
      " '362316' '113514' 'A/5. 3336' '370129' '2650' 'PC 17585' '110152'\n",
      " 'PC 17755' '230433' '384461' '110413' '112059' '382649' 'C.A. 17248'\n",
      " '347083' 'PC 17582' 'PC 17760' '113798' '250644' 'PC 17596' '370375'\n",
      " '13502' '347073' '239853' 'C.A. 2673' '336439' '347464' '345778'\n",
      " 'A/5. 10482' '113056' '349239' '345774' '349206' '237798' '370373'\n",
      " '19877' '11967' 'SC/Paris 2163' '349236' '349233' 'PC 17612' '2693'\n",
      " '113781' '19988' '9234' '367226' '226593' 'A/5 2466' '17421' 'PC 17758'\n",
      " 'P/PP 3381' 'PC 17485' '11767' 'PC 17608' '250651' '349243'\n",
      " 'F.C.C. 13529' '347470' '29011' '36928' '16966' 'A/5 21172' '349219'\n",
      " '234818' '345364' '28551' '111361' '113043' 'PC 17611' '349225' '7598'\n",
      " '113784' '248740' '244361' '229236' '248733' '31418' '386525'\n",
      " 'C.A. 37671' '315088' '7267' '113510' '2695' '2647' '345783' '237671'\n",
      " '330931' '330980' 'SC/PARIS 2167' '2691' 'SOTON/O.Q. 3101310' 'C 7076'\n",
      " '110813' '2626' '14313' 'PC 17477' '11765' '3101267' '323951' 'C 7077'\n",
      " '113503' '2648' '347069' 'PC 17757' '2653' 'STON/O 2. 3101293' '349227'\n",
      " '27849' '367655' 'SC 1748' '113760' '350034' '3101277' '350052' '350407'\n",
      " '28403' '244278' '240929' 'STON/O 2. 3101289' '341826' '4137' '315096'\n",
      " '28664' '347064' '29106' '312992' '349222' '394140' 'STON/O 2. 3101269'\n",
      " '343095' '28220' '250652' '28228' '345773' '349254' 'A/5. 13032' '315082'\n",
      " '347080' 'A/4. 34244' '2003' '250655' '364851' 'SOTON/O.Q. 392078'\n",
      " '110564' '376564' 'SC/AH 3085' 'STON/O 2. 3101274' '13507' 'C.A. 18723'\n",
      " '345769' '347076' '230434' '65306' '33638' '113794' '2666' '113786'\n",
      " '65303' '113051' '17453' 'A/5 2817' '349240' '13509' '17464'\n",
      " 'F.C.C. 13531' '371060' '19952' '364506' '111320' '234360' 'A/S 2816'\n",
      " 'SOTON/O.Q. 3101306' '113792' '36209' '323592' '315089' 'SC/AH Basle 541'\n",
      " '7553' '31027' '3460' '350060' '3101298' '239854' 'A/5 3594' '4134'\n",
      " '11771' 'A.5. 18509' '65304' 'SOTON/OQ 3101317' '113787' 'PC 17609'\n",
      " 'A/4 45380' '36947' 'C.A. 6212' '350035' '315086' '364846' '330909'\n",
      " '4135' '26360' '111427' 'C 4001' '382651' 'SOTON/OQ 3101316' 'PC 17473'\n",
      " 'PC 17603' '349209' '36967' 'C.A. 34260' '226875' '349242' '12749'\n",
      " '349252' '2624' '2700' '367232' 'W./C. 14258' 'PC 17483' '3101296'\n",
      " '29104' '2641' '2690' '315084' '113050' 'PC 17761' '364498' '13568'\n",
      " 'WE/P 5735' '2908' '693' 'SC/PARIS 2146' '244358' '330979' '2620'\n",
      " '347085' '113807' '11755' '345572' '372622' '349251' '218629'\n",
      " 'SOTON/OQ 392082' 'SOTON/O.Q. 392087' 'A/4 48871' '349205' '2686'\n",
      " '350417' 'S.W./PP 752' '11769' 'PC 17474' '14312' 'A/4. 20589' '358585'\n",
      " '243880' '2689' 'STON/O 2. 3101286' '237789' '13049' '3411' '237565'\n",
      " '13567' '14973' 'A./5. 3235' 'STON/O 2. 3101273' 'A/5 3902' '364848'\n",
      " 'SC/AH 29037' '248727' '2664' '349214' '113796' '364511' '111426'\n",
      " '349910' '349246' '113804' 'SOTON/O.Q. 3101305' '370377' '364512'\n",
      " '220845' '31028' '2659' '11753' '350029' '54636' '36963' '219533'\n",
      " '349224' '334912' '27042' '347743' '13214' '112052' '237668'\n",
      " 'STON/O 2. 3101292' '350050' '349231' '13213' 'S.O./P.P. 751' 'CA. 2314'\n",
      " '349221' '8475' '330919' '365226' '349223' '29751' '2623' '5727' '349210'\n",
      " 'STON/O 2. 3101285' '234686' '312993' 'A/5 3536' '19996' '29750'\n",
      " 'F.C. 12750' 'C.A. 24580' '244270' '239856' '349912' '342826' '4138'\n",
      " '330935' '6563' '349228' '350036' '24160' '17474' '349256' '2672'\n",
      " '113800' '248731' '363592' '35852' '348121' 'PC 17475' '36864' '350025'\n",
      " '223596' 'PC 17476' 'PC 17482' '113028' '7545' '250647' '348124' '34218'\n",
      " '36568' '347062' '350048' '12233' '250643' '113806' '315094' '36866'\n",
      " '236853' 'STON/O2. 3101271' '239855' '28425' '233639' '349201' '349218'\n",
      " '16988' '376566' 'STON/O 2. 3101288' '250648' '113773' '335097' '29103'\n",
      " '392096' '345780' '349204' '350042' '29108' '363294' 'SOTON/O2 3101272'\n",
      " '2663' '347074' '112379' '364850' '8471' '345781' '350047' 'S.O./P.P. 3'\n",
      " '2674' '29105' '347078' '383121' '36865' '2687' '113501' 'W./C. 6607'\n",
      " 'SOTON/O.Q. 3101312' '374887' '3101265' '12460' 'PC 17600' '349203'\n",
      " '28213' '17465' '349244' '2685' '2625' '347089' '347063' '112050'\n",
      " '347087' '248723' '3474' '28206' '364499' '112058' 'STON/O2. 3101290'\n",
      " 'S.C./PARIS 2079' 'C 7075' '315098' '19972' '368323' '367228' '2671'\n",
      " '347468' '2223' 'PC 17756' '315097' '392092' '11774' 'SOTON/O2 3101287'\n",
      " '2683' '315090' 'C.A. 5547' '349213' '347060' 'PC 17592' '392091'\n",
      " '113055' '2629' '350026' '28134' '17466' '233866' '236852'\n",
      " 'SC/PARIS 2149' 'PC 17590' '345777' '349248' '695' '345765' '2667'\n",
      " '349212' '349217' '349257' '7552' 'C.A./SOTON 34068' 'SOTON/OQ 392076'\n",
      " '211536' '112053' '111369' '370376' '330911' '363272' '240276' '315154'\n",
      " '7538' '330972' '2657' '349220' '694' '21228' '24065' '233734' '2692'\n",
      " 'STON/O2. 3101270' '2696' 'C 17368' 'PC 17598' '2698' '113054'\n",
      " 'C.A. 31029' '13236' '2682' '342712' '315087' '345768' '113778'\n",
      " 'SOTON/O.Q. 3101263' '237249' 'STON/O 2. 3101291' 'PC 17594' '370374'\n",
      " '13695' 'SC/PARIS 2168' 'SC/A.3 2861' '349230' '348122' '349232' '237216'\n",
      " '347090' '334914' 'F.C.C. 13534' '330963' '2543' '382653' '349211'\n",
      " '3101297' 'PC 17562' '359306' '11770' '248744' '368702' '19924' '349238'\n",
      " '240261' '2660' '330844' 'A/4 31416' '364856' '347072' '345498' '376563'\n",
      " '13905' '350033' 'STON/O 2. 3101268' '347471' 'A./5. 3338' '11778'\n",
      " '365235' '347070' '330920' '383162' '3410' '248734' '237734' '330968'\n",
      " 'PC 17531' '329944' '2681' '13050' '367227' '392095' '368783' '350045'\n",
      " '211535' '342441' 'STON/OQ. 369943' '113780' '2621' '349226' '350409'\n",
      " '2656' '248659' 'SOTON/OQ 392083' '17475' 'SC/A4 23568' '113791' '349255'\n",
      " '3701' '350405' 'S.O./P.P. 752' '347469' '110489' 'SOTON/O.Q. 3101315'\n",
      " '335432' '220844' '343271' '237393' 'PC 17591' '17770' '7548'\n",
      " 'S.O./P.P. 251' '2670' '2673' '233478' '7935' '239059' 'S.O./P.P. 2'\n",
      " 'A/4 48873' '28221' '111163' '235509' '347465' '347066' 'C.A. 31030'\n",
      " '65305' 'C.A. 34050' 'F.C. 12998' '9232' '28034' 'PC 17613' '349250'\n",
      " 'SOTON/O.Q. 3101308' '347091' '113038' '330924' '32302' 'SC/PARIS 2148'\n",
      " '342684' 'W./C. 14266' '350053' 'PC 17606' '350054' '370368' '242963'\n",
      " '113795' '3101266' '330971' '350416' '2679' '250650' '112377' '3470'\n",
      " 'SOTON/O2 3101284' '13508' '7266' '345775' 'C.A. 42795' 'AQ/4 3130'\n",
      " '363611' '28404' '345501' '350410' 'C.A. 34644' '349235' '112051'\n",
      " 'C.A. 49867' 'A. 2. 39186' '315095' '368573' '2676' 'SC 14888' 'CA 31352'\n",
      " 'W./C. 14260' '315085' '364859' 'A/5 21175' 'SOTON/O.Q. 3101314' '2655'\n",
      " 'A/5 1478' 'PC 17607' '382650' '2652' '345771' '349202' '113801' '347467'\n",
      " '347079' '237735' '315092' '383123' '112901' '315091' '2658' 'LP 1588'\n",
      " '368364' 'AQ/3. 30631' '28004' '350408' '347075' '2654' '244368' '113790'\n",
      " 'SOTON/O.Q. 3101309' '236854' 'PC 17580' '2684' '349229' '110469'\n",
      " '244360' '2675' '2622' 'C.A. 15185' '350403' '348125' '237670' '2688'\n",
      " '248726' 'F.C.C. 13540' '113044' '1222' '368402' '315083' '112378'\n",
      " 'SC/PARIS 2147' '28133' '248746' '315152' '29107' '680' '366713' '330910'\n",
      " 'SC/PARIS 2159' '349911' '244346' '364858' 'C.A. 30769' '371109' '347065'\n",
      " '21332' '17765' 'SC/PARIS 2166' '28666' '334915' '365237' '347086'\n",
      " 'A.5. 3236' 'SOTON/O.Q. 3101262' '359309']\n",
      "\n",
      "Fare:\n",
      "[  7.25    71.2833   7.925   53.1      8.05     8.4583  51.8625  21.075\n",
      "  11.1333  30.0708  16.7     26.55    31.275    7.8542  16.      29.125\n",
      "  13.      18.       7.225   26.       8.0292  35.5     31.3875 263.\n",
      "   7.8792   7.8958  27.7208 146.5208   7.75    10.5     82.1708  52.\n",
      "   7.2292  11.2417   9.475   21.      41.5792  15.5     21.6792  17.8\n",
      "  39.6875   7.8     76.7292  61.9792  27.75    46.9     80.      83.475\n",
      "  27.9     15.2458   8.1583   8.6625  73.5     14.4542  56.4958   7.65\n",
      "  29.      12.475    9.       9.5      7.7875  47.1     15.85    34.375\n",
      "  61.175   20.575   34.6542  63.3583  23.      77.2875   8.6542   7.775\n",
      "  24.15     9.825   14.4583 247.5208   7.1417  22.3583   6.975    7.05\n",
      "  14.5     15.0458  26.2833   9.2167  79.2      6.75    11.5     36.75\n",
      "   7.7958  12.525   66.6      7.3125  61.3792   7.7333  69.55    16.1\n",
      "  15.75    20.525   55.      25.925   33.5     30.6958  25.4667  28.7125\n",
      "   0.      15.05    39.      22.025   50.       8.4042   6.4958  10.4625\n",
      "  18.7875  31.     113.275   27.      76.2917  90.       9.35    13.5\n",
      "   7.55    26.25    12.275    7.125   52.5542  20.2125  86.5    512.3292\n",
      "  79.65   153.4625 135.6333  19.5     29.7     77.9583  20.25    78.85\n",
      "  91.0792  12.875    8.85   151.55    30.5     23.25    12.35   110.8833\n",
      " 108.9     24.      56.9292  83.1583 262.375   14.     164.8667 134.5\n",
      "   6.2375  57.9792  28.5    133.65    15.9      9.225   35.      75.25\n",
      "  69.3     55.4417 211.5      4.0125 227.525   15.7417   7.7292  12.\n",
      " 120.      12.65    18.75     6.8583  32.5      7.875   14.4     55.9\n",
      "   8.1125  81.8583  19.2583  19.9667  89.1042  38.5      7.725   13.7917\n",
      "   9.8375   7.0458   7.5208  12.2875   9.5875  49.5042  78.2667  15.1\n",
      "   7.6292  22.525   26.2875  59.4      7.4958  34.0208  93.5    221.7792\n",
      " 106.425   49.5     71.      13.8625   7.8292  39.6     17.4     51.4792\n",
      "  26.3875  30.      40.125    8.7125  15.      33.      42.4     15.55\n",
      "  65.      32.3208   7.0542   8.4333  25.5875   9.8417   8.1375  10.1708\n",
      " 211.3375  57.      13.4167   7.7417   9.4833   7.7375   8.3625  23.45\n",
      "  25.9292   8.6833   8.5167   7.8875  37.0042   6.45     6.95     8.3\n",
      "   6.4375  39.4     14.1083  13.8583  50.4958   5.       9.8458  10.5167\n",
      "   7.       9.6875  82.2667   3.1708  31.6833  31.5     57.75     7.85\n",
      "  60.      15.0333  15.5792  28.5375  25.7     10.7083  13.9      7.8208\n",
      "   7.7792  31.6792   7.2833  75.2417      nan  12.1833  13.775    8.9625\n",
      "  25.7417  42.5     27.4458 136.7792   9.325   12.7375  45.5      7.575\n",
      "   7.5792   7.7208]\n",
      "\n",
      "Cabin:\n",
      "[nan 'C85' 'C123' 'E46' 'G6' 'C103' 'D56' 'A6' 'C23 C25 C27' 'B78' 'D33'\n",
      " 'B30' 'C52' 'B28' 'C83' 'F33' 'F G73' 'E31' 'A5' 'D10 D12' 'D26' 'C110'\n",
      " 'B58 B60' 'E101' 'F E69' 'D47' 'B86' 'F2' 'C2' 'E33' 'B19' 'A7' 'C49'\n",
      " 'F4' 'A32' 'B4' 'B80' 'A31' 'D36' 'D15' 'C93' 'C78' 'D35' 'C87' 'B77'\n",
      " 'E67' 'B94' 'C125' 'C99' 'C118' 'D7' 'A19' 'B49' 'D' 'C22 C26' 'C106'\n",
      " 'C65' 'E36' 'C54' 'B57 B59 B63 B66' 'C7' 'E34' 'C32' 'B18' 'C124' 'C91'\n",
      " 'E40' 'T' 'C128' 'D37' 'B35' 'E50' 'C82' 'B96 B98' 'E10' 'E44' 'A34'\n",
      " 'C104' 'C111' 'C92' 'E38' 'D21' 'E12' 'E63' 'A14' 'B37' 'C30' 'D20' 'B79'\n",
      " 'E25' 'D46' 'B73' 'C95' 'B38' 'B39' 'B22' 'C86' 'C70' 'A16' 'C101' 'C68'\n",
      " 'A10' 'E68' 'B41' 'A20' 'D19' 'D50' 'D9' 'A23' 'B50' 'A26' 'D48' 'E58'\n",
      " 'C126' 'B71' 'B51 B53 B55' 'D49' 'B5' 'B20' 'F G63' 'C62 C64' 'E24' 'C90'\n",
      " 'C45' 'E8' 'B101' 'D45' 'C46' 'D30' 'E121' 'D11' 'E77' 'F38' 'B3' 'D6'\n",
      " 'B82 B84' 'D17' 'A36' 'B102' 'B69' 'E49' 'C47' 'D28' 'E17' 'A24' 'C50'\n",
      " 'B42' 'C148' 'B45' 'B36' 'A21' 'D34' 'A9' 'C31' 'B61' 'C53' 'D43' 'C130'\n",
      " 'C132' 'C55 C57' 'C116' 'F' 'A29' 'C6' 'C28' 'C51' 'C97' 'D22' 'B10'\n",
      " 'E45' 'E52' 'A11' 'B11' 'C80' 'C89' 'F E46' 'B26' 'F E57' 'A18' 'E60'\n",
      " 'E39 E41' 'B52 B54 B56' 'C39' 'B24' 'D40' 'D38' 'C105']\n",
      "\n",
      "Embarked:\n",
      "['S' 'C' 'Q' nan]\n",
      "\n"
     ]
    }
   ],
   "source": [
    "# Check entries for each column (full dataset)\n",
    "for col in entire_df.columns:\n",
    "    print('{}:\\n{}\\n'.format(col, entire_df[col].unique()))"
   ]
  },
  {
   "cell_type": "code",
   "execution_count": 7,
   "id": "cce2fee8",
   "metadata": {
    "execution": {
     "iopub.execute_input": "2023-03-08T07:47:26.219899Z",
     "iopub.status.busy": "2023-03-08T07:47:26.219110Z",
     "iopub.status.idle": "2023-03-08T07:47:26.227960Z",
     "shell.execute_reply": "2023-03-08T07:47:26.226117Z"
    },
    "papermill": {
     "duration": 0.030804,
     "end_time": "2023-03-08T07:47:26.230425",
     "exception": false,
     "start_time": "2023-03-08T07:47:26.199621",
     "status": "completed"
    },
    "tags": []
   },
   "outputs": [
    {
     "name": "stdout",
     "output_type": "stream",
     "text": [
      "Duplicate rows for entire dataset: 0 \n",
      "\n"
     ]
    }
   ],
   "source": [
    "# Check duplicate rows\n",
    "print('Duplicate rows for entire dataset: {} \\n'.format(entire_df.duplicated().sum()))"
   ]
  },
  {
   "cell_type": "markdown",
   "id": "c9eddff0",
   "metadata": {
    "papermill": {
     "duration": 0.018364,
     "end_time": "2023-03-08T07:47:26.267331",
     "exception": false,
     "start_time": "2023-03-08T07:47:26.248967",
     "status": "completed"
    },
    "tags": []
   },
   "source": [
    "# **2.1 Missing Values**"
   ]
  },
  {
   "cell_type": "code",
   "execution_count": 8,
   "id": "581db5a9",
   "metadata": {
    "execution": {
     "iopub.execute_input": "2023-03-08T07:47:26.306752Z",
     "iopub.status.busy": "2023-03-08T07:47:26.306099Z",
     "iopub.status.idle": "2023-03-08T07:47:27.267649Z",
     "shell.execute_reply": "2023-03-08T07:47:27.266131Z"
    },
    "papermill": {
     "duration": 0.984347,
     "end_time": "2023-03-08T07:47:27.270441",
     "exception": false,
     "start_time": "2023-03-08T07:47:26.286094",
     "status": "completed"
    },
    "tags": []
   },
   "outputs": [
    {
     "data": {
      "text/plain": [
       "Text(0.5, 1.0, 'Test Dataset: Missing Values')"
      ]
     },
     "execution_count": 8,
     "metadata": {},
     "output_type": "execute_result"
    },
    {
     "data": {
      "image/png": "[encoded data removed]",
      "text/plain": [
       "<Figure size 1440x360 with 2 Axes>"
      ]
     },
     "metadata": {},
     "output_type": "display_data"
    }
   ],
   "source": [
    "fig, ax = plt.subplots(nrows=1, ncols=2, figsize=(20, 5))\n",
    "\n",
    "sns.heatmap(train.isnull(), cbar=False, cmap='PuBu',ax=ax[0])\n",
    "ax[0].set_title('Train Dataset: Missing Values')\n",
    "sns.heatmap(test.isnull(), cbar=False, cmap='PuBu_r',ax=ax[1])\n",
    "ax[1].set_title('Test Dataset: Missing Values')"
   ]
  },
  {
   "cell_type": "markdown",
   "id": "9727fef7",
   "metadata": {
    "papermill": {
     "duration": 0.019015,
     "end_time": "2023-03-08T07:47:27.308901",
     "exception": false,
     "start_time": "2023-03-08T07:47:27.289886",
     "status": "completed"
    },
    "tags": []
   },
   "source": [
    "* In the training set, the features `Age`, `Cabin`, and `Embarked` have missing values.\n",
    "* In the testing set, the features `Age`, `Cabin` and `Fare` have missing values."
   ]
  },
  {
   "cell_type": "code",
   "execution_count": 9,
   "id": "dacdae4b",
   "metadata": {
    "execution": {
     "iopub.execute_input": "2023-03-08T07:47:27.350798Z",
     "iopub.status.busy": "2023-03-08T07:47:27.350336Z",
     "iopub.status.idle": "2023-03-08T07:47:27.371581Z",
     "shell.execute_reply": "2023-03-08T07:47:27.370165Z"
    },
    "papermill": {
     "duration": 0.044938,
     "end_time": "2023-03-08T07:47:27.374379",
     "exception": false,
     "start_time": "2023-03-08T07:47:27.329441",
     "status": "completed"
    },
    "tags": []
   },
   "outputs": [
    {
     "data": {
      "text/html": [
       "<div>\n",
       "<style scoped>\n",
       "    .dataframe tbody tr th:only-of-type {\n",
       "        vertical-align: middle;\n",
       "    }\n",
       "\n",
       "    .dataframe tbody tr th {\n",
       "        vertical-align: top;\n",
       "    }\n",
       "\n",
       "    .dataframe thead th {\n",
       "        text-align: right;\n",
       "    }\n",
       "</style>\n",
       "<table border=\"1\" class=\"dataframe\">\n",
       "  <thead>\n",
       "    <tr style=\"text-align: right;\">\n",
       "      <th></th>\n",
       "      <th>Column</th>\n",
       "      <th>Missing</th>\n",
       "      <th>Percentage</th>\n",
       "    </tr>\n",
       "  </thead>\n",
       "  <tbody>\n",
       "    <tr>\n",
       "      <th>0</th>\n",
       "      <td>PassengerId</td>\n",
       "      <td>0</td>\n",
       "      <td>0.00</td>\n",
       "    </tr>\n",
       "    <tr>\n",
       "      <th>1</th>\n",
       "      <td>Survived</td>\n",
       "      <td>418</td>\n",
       "      <td>31.93</td>\n",
       "    </tr>\n",
       "    <tr>\n",
       "      <th>2</th>\n",
       "      <td>Pclass</td>\n",
       "      <td>0</td>\n",
       "      <td>0.00</td>\n",
       "    </tr>\n",
       "    <tr>\n",
       "      <th>3</th>\n",
       "      <td>Name</td>\n",
       "      <td>0</td>\n",
       "      <td>0.00</td>\n",
       "    </tr>\n",
       "    <tr>\n",
       "      <th>4</th>\n",
       "      <td>Sex</td>\n",
       "      <td>0</td>\n",
       "      <td>0.00</td>\n",
       "    </tr>\n",
       "    <tr>\n",
       "      <th>5</th>\n",
       "      <td>Age</td>\n",
       "      <td>263</td>\n",
       "      <td>20.09</td>\n",
       "    </tr>\n",
       "    <tr>\n",
       "      <th>6</th>\n",
       "      <td>SibSp</td>\n",
       "      <td>0</td>\n",
       "      <td>0.00</td>\n",
       "    </tr>\n",
       "    <tr>\n",
       "      <th>7</th>\n",
       "      <td>Parch</td>\n",
       "      <td>0</td>\n",
       "      <td>0.00</td>\n",
       "    </tr>\n",
       "    <tr>\n",
       "      <th>8</th>\n",
       "      <td>Ticket</td>\n",
       "      <td>0</td>\n",
       "      <td>0.00</td>\n",
       "    </tr>\n",
       "    <tr>\n",
       "      <th>9</th>\n",
       "      <td>Fare</td>\n",
       "      <td>1</td>\n",
       "      <td>0.08</td>\n",
       "    </tr>\n",
       "    <tr>\n",
       "      <th>10</th>\n",
       "      <td>Cabin</td>\n",
       "      <td>1014</td>\n",
       "      <td>77.46</td>\n",
       "    </tr>\n",
       "    <tr>\n",
       "      <th>11</th>\n",
       "      <td>Embarked</td>\n",
       "      <td>2</td>\n",
       "      <td>0.15</td>\n",
       "    </tr>\n",
       "  </tbody>\n",
       "</table>\n",
       "</div>"
      ],
      "text/plain": [
       "         Column  Missing  Percentage\n",
       "0   PassengerId        0        0.00\n",
       "1      Survived      418       31.93\n",
       "2        Pclass        0        0.00\n",
       "3          Name        0        0.00\n",
       "4           Sex        0        0.00\n",
       "5           Age      263       20.09\n",
       "6         SibSp        0        0.00\n",
       "7         Parch        0        0.00\n",
       "8        Ticket        0        0.00\n",
       "9          Fare        1        0.08\n",
       "10        Cabin     1014       77.46\n",
       "11     Embarked        2        0.15"
      ]
     },
     "execution_count": 9,
     "metadata": {},
     "output_type": "execute_result"
    }
   ],
   "source": [
    "# Show missing values for the entire dataset\n",
    "def missing_tbl(df):\n",
    "    tbl = pd.DataFrame()\n",
    "    \n",
    "    tbl['Column'] = df.columns\n",
    "    tbl['Missing'] = [df[col].isnull().sum() for col in df.columns]\n",
    "    tbl['Percentage'] = [round((df[col].isnull().sum() / df.shape[0])*100, 2) for col in df.columns]\n",
    "    return tbl\n",
    "\n",
    "\n",
    "missing_tbl(entire_df)"
   ]
  },
  {
   "cell_type": "markdown",
   "id": "49096758",
   "metadata": {
    "papermill": {
     "duration": 0.019708,
     "end_time": "2023-03-08T07:47:27.413883",
     "exception": false,
     "start_time": "2023-03-08T07:47:27.394175",
     "status": "completed"
    },
    "tags": []
   },
   "source": [
    "* According to the entire dataset:\n",
    " * **20.09%** of the `Age` values are missing. \n",
    " * **0.08%** of the `Fare` values are missing. \n",
    " * **77.46%** of the `Cabin` values are missing.\n",
    " * **0.15%** of the `Embarked` values are missing."
   ]
  },
  {
   "cell_type": "markdown",
   "id": "19ef6b61",
   "metadata": {
    "papermill": {
     "duration": 0.019059,
     "end_time": "2023-03-08T07:47:27.452445",
     "exception": false,
     "start_time": "2023-03-08T07:47:27.433386",
     "status": "completed"
    },
    "tags": []
   },
   "source": [
    "# **2.1.0 Age**"
   ]
  },
  {
   "cell_type": "code",
   "execution_count": 10,
   "id": "262e69f6",
   "metadata": {
    "execution": {
     "iopub.execute_input": "2023-03-08T07:47:27.492934Z",
     "iopub.status.busy": "2023-03-08T07:47:27.492492Z",
     "iopub.status.idle": "2023-03-08T07:47:27.813464Z",
     "shell.execute_reply": "2023-03-08T07:47:27.811789Z"
    },
    "papermill": {
     "duration": 0.344782,
     "end_time": "2023-03-08T07:47:27.816500",
     "exception": false,
     "start_time": "2023-03-08T07:47:27.471718",
     "status": "completed"
    },
    "tags": []
   },
   "outputs": [
    {
     "data": {
      "text/plain": [
       "Text(0.5, 1.0, 'Age Distribution')"
      ]
     },
     "execution_count": 10,
     "metadata": {},
     "output_type": "execute_result"
    },
    {
     "data": {
      "image/png": "[encoded data removed]",
      "text/plain": [
       "<Figure size 720x360 with 1 Axes>"
      ]
     },
     "metadata": {},
     "output_type": "display_data"
    }
   ],
   "source": [
    "sns.histplot(data=entire_df['Age'], kde=True)\n",
    "plt.title('Age Distribution')"
   ]
  },
  {
   "cell_type": "markdown",
   "id": "9d2a047e",
   "metadata": {
    "papermill": {
     "duration": 0.020101,
     "end_time": "2023-03-08T07:47:27.857997",
     "exception": false,
     "start_time": "2023-03-08T07:47:27.837896",
     "status": "completed"
    },
    "tags": []
   },
   "source": [
    "* The `Age` distribution is **right skewed**. (**Median** imputation will be used) \n",
    "* This shows that there are more younger passengers.\n",
    "* Most values are clustered around the left tail of the distribution, with the longer right tail.\n",
    "* mode < median < mean"
   ]
  },
  {
   "cell_type": "code",
   "execution_count": 11,
   "id": "be04bf21",
   "metadata": {
    "execution": {
     "iopub.execute_input": "2023-03-08T07:47:27.898938Z",
     "iopub.status.busy": "2023-03-08T07:47:27.898520Z",
     "iopub.status.idle": "2023-03-08T07:47:27.913942Z",
     "shell.execute_reply": "2023-03-08T07:47:27.912463Z"
    },
    "papermill": {
     "duration": 0.038495,
     "end_time": "2023-03-08T07:47:27.916181",
     "exception": false,
     "start_time": "2023-03-08T07:47:27.877686",
     "status": "completed"
    },
    "tags": []
   },
   "outputs": [],
   "source": [
    "# Create Title column by extracting title from Name column\n",
    "def create_title(df):\n",
    "    df = df.copy()\n",
    "    df['Title'] = df['Name'].str.split(', ', expand=True)[1]\n",
    "    df['Title'] = df['Title'].str.split('.', expand=True)[0]\n",
    "    return df\n",
    "\n",
    "\n",
    "entire_df = create_title(entire_df)"
   ]
  },
  {
   "cell_type": "code",
   "execution_count": 12,
   "id": "4332a012",
   "metadata": {
    "execution": {
     "iopub.execute_input": "2023-03-08T07:47:27.957082Z",
     "iopub.status.busy": "2023-03-08T07:47:27.956701Z",
     "iopub.status.idle": "2023-03-08T07:47:27.964294Z",
     "shell.execute_reply": "2023-03-08T07:47:27.962455Z"
    },
    "papermill": {
     "duration": 0.030519,
     "end_time": "2023-03-08T07:47:27.966481",
     "exception": false,
     "start_time": "2023-03-08T07:47:27.935962",
     "status": "completed"
    },
    "tags": []
   },
   "outputs": [
    {
     "name": "stdout",
     "output_type": "stream",
     "text": [
      "Entire dataset:\n",
      "['Mr' 'Mrs' 'Miss' 'Master' 'Don' 'Rev' 'Dr' 'Mme' 'Ms' 'Major' 'Lady'\n",
      " 'Sir' 'Mlle' 'Col' 'Capt' 'the Countess' 'Jonkheer' 'Dona']\n",
      "\n"
     ]
    }
   ],
   "source": [
    "# Check entries for Title column\n",
    "print('Entire dataset:\\n{}\\n'.format(entire_df['Title'].unique()))"
   ]
  },
  {
   "cell_type": "markdown",
   "id": "5ab28d0b",
   "metadata": {
    "papermill": {
     "duration": 0.019286,
     "end_time": "2023-03-08T07:47:28.005183",
     "exception": false,
     "start_time": "2023-03-08T07:47:27.985897",
     "status": "completed"
    },
    "tags": []
   },
   "source": [
    "| Title | Description | \n",
    "| --- | --- | \n",
    "| **Mlle** | Title used for an unmarried female in French |\n",
    "| **Ms** | Title used for a women of uncertain marital status |\n",
    "| **Dona** | Title used for a married or widowed woman in Spanish |\n",
    "| **Mme** | Title used for a married woman |\n",
    "| **Countess & Lady** | Title used for a woman who is married to a count or earl |\n",
    "| **Master** | Title used for a boys before the age of 12 |\n",
    "| **Don** | Title used for a man in Spanish | \n",
    "| **Rev** | Title used for an officially appointed Christian religious leader |\n",
    "| **Jonkheer** | Title used for a middle-aged, young, unmarried child of a high-ranking knight or nobleman |\n",
    "| **Col** | Title used for a senior military officer |\n",
    "| **Major** | Title used for a military officer |\n",
    "| **Capt** | Title used for a serving officer in the Army, Airforce, or Marines with a rank one below Major |"
   ]
  },
  {
   "cell_type": "code",
   "execution_count": 13,
   "id": "4baa351d",
   "metadata": {
    "execution": {
     "iopub.execute_input": "2023-03-08T07:47:28.046092Z",
     "iopub.status.busy": "2023-03-08T07:47:28.045684Z",
     "iopub.status.idle": "2023-03-08T07:47:28.065361Z",
     "shell.execute_reply": "2023-03-08T07:47:28.063120Z"
    },
    "papermill": {
     "duration": 0.043692,
     "end_time": "2023-03-08T07:47:28.068656",
     "exception": false,
     "start_time": "2023-03-08T07:47:28.024964",
     "status": "completed"
    },
    "tags": []
   },
   "outputs": [],
   "source": [
    "# Standardized Title column\n",
    "def standardized_title(df):\n",
    "    df = df.copy()\n",
    "    \n",
    "    # Unmarried woman\n",
    "    unmarried_w = ['Mlle', 'Ms']\n",
    "    for uw in unmarried_w:\n",
    "        df['Title'].replace({uw : 'Miss'}, inplace=True)\n",
    "    \n",
    "    # Married woman\n",
    "    married_w = ['Dona', 'Mme', 'Lady', 'the Countess']\n",
    "    for mv in married_w:\n",
    "        df['Title'].replace({mv : 'Mrs'}, inplace=True)\n",
    "    \n",
    "    # Man\n",
    "    man = ['Don', 'Rev', 'Capt', 'Col', 'Major', 'Jonkheer', 'Sir']\n",
    "    for m in man:\n",
    "        df['Title'].replace({m : 'Mr'}, inplace=True)\n",
    "        \n",
    "    return df\n",
    "\n",
    "\n",
    "# Apply function\n",
    "entire_df = standardized_title(entire_df)"
   ]
  },
  {
   "cell_type": "code",
   "execution_count": 14,
   "id": "fd278227",
   "metadata": {
    "execution": {
     "iopub.execute_input": "2023-03-08T07:47:28.110412Z",
     "iopub.status.busy": "2023-03-08T07:47:28.110066Z",
     "iopub.status.idle": "2023-03-08T07:47:28.126635Z",
     "shell.execute_reply": "2023-03-08T07:47:28.125104Z"
    },
    "papermill": {
     "duration": 0.039643,
     "end_time": "2023-03-08T07:47:28.128577",
     "exception": false,
     "start_time": "2023-03-08T07:47:28.088934",
     "status": "completed"
    },
    "tags": []
   },
   "outputs": [
    {
     "data": {
      "text/html": [
       "<div>\n",
       "<style scoped>\n",
       "    .dataframe tbody tr th:only-of-type {\n",
       "        vertical-align: middle;\n",
       "    }\n",
       "\n",
       "    .dataframe tbody tr th {\n",
       "        vertical-align: top;\n",
       "    }\n",
       "\n",
       "    .dataframe thead th {\n",
       "        text-align: right;\n",
       "    }\n",
       "</style>\n",
       "<table border=\"1\" class=\"dataframe\">\n",
       "  <thead>\n",
       "    <tr style=\"text-align: right;\">\n",
       "      <th></th>\n",
       "      <th>PassengerId</th>\n",
       "      <th>Survived</th>\n",
       "      <th>Pclass</th>\n",
       "      <th>Name</th>\n",
       "      <th>Sex</th>\n",
       "      <th>Age</th>\n",
       "      <th>SibSp</th>\n",
       "      <th>Parch</th>\n",
       "      <th>Ticket</th>\n",
       "      <th>Fare</th>\n",
       "      <th>Cabin</th>\n",
       "      <th>Embarked</th>\n",
       "      <th>Title</th>\n",
       "    </tr>\n",
       "  </thead>\n",
       "  <tbody>\n",
       "    <tr>\n",
       "      <th>0</th>\n",
       "      <td>1</td>\n",
       "      <td>0.0</td>\n",
       "      <td>3</td>\n",
       "      <td>Braund, Mr. Owen Harris</td>\n",
       "      <td>male</td>\n",
       "      <td>22.0</td>\n",
       "      <td>1</td>\n",
       "      <td>0</td>\n",
       "      <td>A/5 21171</td>\n",
       "      <td>7.2500</td>\n",
       "      <td>NaN</td>\n",
       "      <td>S</td>\n",
       "      <td>Mr</td>\n",
       "    </tr>\n",
       "    <tr>\n",
       "      <th>1</th>\n",
       "      <td>2</td>\n",
       "      <td>1.0</td>\n",
       "      <td>1</td>\n",
       "      <td>Cumings, Mrs. John Bradley (Florence Briggs Th...</td>\n",
       "      <td>female</td>\n",
       "      <td>38.0</td>\n",
       "      <td>1</td>\n",
       "      <td>0</td>\n",
       "      <td>PC 17599</td>\n",
       "      <td>71.2833</td>\n",
       "      <td>C85</td>\n",
       "      <td>C</td>\n",
       "      <td>Mrs</td>\n",
       "    </tr>\n",
       "    <tr>\n",
       "      <th>2</th>\n",
       "      <td>3</td>\n",
       "      <td>1.0</td>\n",
       "      <td>3</td>\n",
       "      <td>Heikkinen, Miss. Laina</td>\n",
       "      <td>female</td>\n",
       "      <td>26.0</td>\n",
       "      <td>0</td>\n",
       "      <td>0</td>\n",
       "      <td>STON/O2. 3101282</td>\n",
       "      <td>7.9250</td>\n",
       "      <td>NaN</td>\n",
       "      <td>S</td>\n",
       "      <td>Miss</td>\n",
       "    </tr>\n",
       "    <tr>\n",
       "      <th>3</th>\n",
       "      <td>4</td>\n",
       "      <td>1.0</td>\n",
       "      <td>1</td>\n",
       "      <td>Futrelle, Mrs. Jacques Heath (Lily May Peel)</td>\n",
       "      <td>female</td>\n",
       "      <td>35.0</td>\n",
       "      <td>1</td>\n",
       "      <td>0</td>\n",
       "      <td>113803</td>\n",
       "      <td>53.1000</td>\n",
       "      <td>C123</td>\n",
       "      <td>S</td>\n",
       "      <td>Mrs</td>\n",
       "    </tr>\n",
       "    <tr>\n",
       "      <th>4</th>\n",
       "      <td>5</td>\n",
       "      <td>0.0</td>\n",
       "      <td>3</td>\n",
       "      <td>Allen, Mr. William Henry</td>\n",
       "      <td>male</td>\n",
       "      <td>35.0</td>\n",
       "      <td>0</td>\n",
       "      <td>0</td>\n",
       "      <td>373450</td>\n",
       "      <td>8.0500</td>\n",
       "      <td>NaN</td>\n",
       "      <td>S</td>\n",
       "      <td>Mr</td>\n",
       "    </tr>\n",
       "  </tbody>\n",
       "</table>\n",
       "</div>"
      ],
      "text/plain": [
       "   PassengerId  Survived  Pclass  \\\n",
       "0            1       0.0       3   \n",
       "1            2       1.0       1   \n",
       "2            3       1.0       3   \n",
       "3            4       1.0       1   \n",
       "4            5       0.0       3   \n",
       "\n",
       "                                                Name     Sex   Age  SibSp  \\\n",
       "0                            Braund, Mr. Owen Harris    male  22.0      1   \n",
       "1  Cumings, Mrs. John Bradley (Florence Briggs Th...  female  38.0      1   \n",
       "2                             Heikkinen, Miss. Laina  female  26.0      0   \n",
       "3       Futrelle, Mrs. Jacques Heath (Lily May Peel)  female  35.0      1   \n",
       "4                           Allen, Mr. William Henry    male  35.0      0   \n",
       "\n",
       "   Parch            Ticket     Fare Cabin Embarked Title  \n",
       "0      0         A/5 21171   7.2500   NaN        S    Mr  \n",
       "1      0          PC 17599  71.2833   C85        C   Mrs  \n",
       "2      0  STON/O2. 3101282   7.9250   NaN        S  Miss  \n",
       "3      0            113803  53.1000  C123        S   Mrs  \n",
       "4      0            373450   8.0500   NaN        S    Mr  "
      ]
     },
     "execution_count": 14,
     "metadata": {},
     "output_type": "execute_result"
    }
   ],
   "source": [
    "entire_df.head()"
   ]
  },
  {
   "cell_type": "code",
   "execution_count": 15,
   "id": "c3b75e31",
   "metadata": {
    "execution": {
     "iopub.execute_input": "2023-03-08T07:47:28.169936Z",
     "iopub.status.busy": "2023-03-08T07:47:28.169522Z",
     "iopub.status.idle": "2023-03-08T07:47:28.193032Z",
     "shell.execute_reply": "2023-03-08T07:47:28.191625Z"
    },
    "papermill": {
     "duration": 0.04746,
     "end_time": "2023-03-08T07:47:28.195682",
     "exception": false,
     "start_time": "2023-03-08T07:47:28.148222",
     "status": "completed"
    },
    "tags": []
   },
   "outputs": [
    {
     "data": {
      "text/html": [
       "<div>\n",
       "<style scoped>\n",
       "    .dataframe tbody tr th:only-of-type {\n",
       "        vertical-align: middle;\n",
       "    }\n",
       "\n",
       "    .dataframe tbody tr th {\n",
       "        vertical-align: top;\n",
       "    }\n",
       "\n",
       "    .dataframe thead th {\n",
       "        text-align: right;\n",
       "    }\n",
       "</style>\n",
       "<table border=\"1\" class=\"dataframe\">\n",
       "  <thead>\n",
       "    <tr style=\"text-align: right;\">\n",
       "      <th></th>\n",
       "      <th>Feature 1</th>\n",
       "      <th>Feature 2</th>\n",
       "      <th>Correlation Coefficient</th>\n",
       "    </tr>\n",
       "  </thead>\n",
       "  <tbody>\n",
       "    <tr>\n",
       "      <th>5</th>\n",
       "      <td>Age</td>\n",
       "      <td>Age</td>\n",
       "      <td>1.0000</td>\n",
       "    </tr>\n",
       "    <tr>\n",
       "      <th>9</th>\n",
       "      <td>Age</td>\n",
       "      <td>Pclass</td>\n",
       "      <td>0.4081</td>\n",
       "    </tr>\n",
       "    <tr>\n",
       "      <th>18</th>\n",
       "      <td>Age</td>\n",
       "      <td>SibSp</td>\n",
       "      <td>0.2437</td>\n",
       "    </tr>\n",
       "    <tr>\n",
       "      <th>22</th>\n",
       "      <td>Age</td>\n",
       "      <td>Fare</td>\n",
       "      <td>0.1787</td>\n",
       "    </tr>\n",
       "    <tr>\n",
       "      <th>25</th>\n",
       "      <td>Age</td>\n",
       "      <td>Parch</td>\n",
       "      <td>0.1509</td>\n",
       "    </tr>\n",
       "    <tr>\n",
       "      <th>30</th>\n",
       "      <td>Age</td>\n",
       "      <td>Survived</td>\n",
       "      <td>0.0772</td>\n",
       "    </tr>\n",
       "    <tr>\n",
       "      <th>42</th>\n",
       "      <td>Age</td>\n",
       "      <td>PassengerId</td>\n",
       "      <td>0.0288</td>\n",
       "    </tr>\n",
       "  </tbody>\n",
       "</table>\n",
       "</div>"
      ],
      "text/plain": [
       "   Feature 1    Feature 2  Correlation Coefficient\n",
       "5        Age          Age                   1.0000\n",
       "9        Age       Pclass                   0.4081\n",
       "18       Age        SibSp                   0.2437\n",
       "22       Age         Fare                   0.1787\n",
       "25       Age        Parch                   0.1509\n",
       "30       Age     Survived                   0.0772\n",
       "42       Age  PassengerId                   0.0288"
      ]
     },
     "execution_count": 15,
     "metadata": {},
     "output_type": "execute_result"
    }
   ],
   "source": [
    "# Compute the correlation between Age and Numerical Features to obtain a more accurate median Age\n",
    "def num_corr(feature):\n",
    "    df_corr = entire_df.corr().round(4).abs().unstack().sort_values(ascending=False).reset_index()\n",
    "    df_corr.rename(columns={\"level_0\": \"Feature 1\", \"level_1\": \"Feature 2\", 0: 'Correlation Coefficient'}, inplace=True)\n",
    "    return df_corr[df_corr['Feature 1'] == feature]\n",
    "\n",
    "num_corr('Age')"
   ]
  },
  {
   "cell_type": "code",
   "execution_count": 16,
   "id": "47f43a79",
   "metadata": {
    "execution": {
     "iopub.execute_input": "2023-03-08T07:47:28.238225Z",
     "iopub.status.busy": "2023-03-08T07:47:28.237899Z",
     "iopub.status.idle": "2023-03-08T07:47:28.254537Z",
     "shell.execute_reply": "2023-03-08T07:47:28.252955Z"
    },
    "papermill": {
     "duration": 0.040572,
     "end_time": "2023-03-08T07:47:28.257184",
     "exception": false,
     "start_time": "2023-03-08T07:47:28.216612",
     "status": "completed"
    },
    "tags": []
   },
   "outputs": [
    {
     "name": "stdout",
     "output_type": "stream",
     "text": [
      "Correlation between Age and Categorical Features:\n",
      "Sex : 0.0636\n",
      "Title : 0.3821\n",
      "Embarked : 0.0424\n"
     ]
    }
   ],
   "source": [
    "# Compute the correlation between Age and Categorical Features\n",
    "from pandas import factorize\n",
    "\n",
    "def cat_corr(feature):\n",
    "    categories = ['Sex', 'Title', 'Embarked']\n",
    "    print('Correlation between {} and Categorical Features:'.format(feature))\n",
    "    for cat in categories:\n",
    "        labels, categories = factorize(entire_df[cat])\n",
    "        entire_df['labels'] = labels\n",
    "        correlation = abs(entire_df[feature].corr(entire_df['labels']))\n",
    "        print('{} : {:.4f}'.format(cat, correlation))\n",
    "        entire_df.drop('labels', axis=1, inplace=True)\n",
    "        \n",
    "cat_corr('Age')"
   ]
  },
  {
   "cell_type": "markdown",
   "id": "929b9af2",
   "metadata": {
    "papermill": {
     "duration": 0.019665,
     "end_time": "2023-03-08T07:47:28.297052",
     "exception": false,
     "start_time": "2023-03-08T07:47:28.277387",
     "status": "completed"
    },
    "tags": []
   },
   "source": [
    "* Based on correlation, `Pclass` and `Title` have **moderate positive** relationship with `Age`."
   ]
  },
  {
   "cell_type": "code",
   "execution_count": 17,
   "id": "8859ae4f",
   "metadata": {
    "execution": {
     "iopub.execute_input": "2023-03-08T07:47:28.343918Z",
     "iopub.status.busy": "2023-03-08T07:47:28.342798Z",
     "iopub.status.idle": "2023-03-08T07:47:28.351442Z",
     "shell.execute_reply": "2023-03-08T07:47:28.350742Z"
    },
    "papermill": {
     "duration": 0.03741,
     "end_time": "2023-03-08T07:47:28.354393",
     "exception": false,
     "start_time": "2023-03-08T07:47:28.316983",
     "status": "completed"
    },
    "tags": []
   },
   "outputs": [],
   "source": [
    "# Plot age distribution grouped by category\n",
    "def age_hue_histplot(df, cat:list):\n",
    "    fig, axs = plt.subplots(nrows=1, ncols=len(cat), figsize=(len(cat)*10, 5))\n",
    "    axs = axs.flatten()\n",
    "   \n",
    "    for i, feature in enumerate(cat):\n",
    "        ax = sns.histplot(data=df, x='Age', hue=feature, kde=True, palette='PuBu', ax=axs[i])\n",
    "        median_age = df.groupby(feature)['Age'].median()\n",
    "        for m in median_age:\n",
    "            ax.axvline(x=m, ls='--', c='0.25')\n",
    "        ax = axs[i].set_title('{} Distribution'.format(feature))"
   ]
  },
  {
   "cell_type": "code",
   "execution_count": 18,
   "id": "7d556bec",
   "metadata": {
    "execution": {
     "iopub.execute_input": "2023-03-08T07:47:28.411252Z",
     "iopub.status.busy": "2023-03-08T07:47:28.410866Z",
     "iopub.status.idle": "2023-03-08T07:47:29.398853Z",
     "shell.execute_reply": "2023-03-08T07:47:29.397649Z"
    },
    "papermill": {
     "duration": 1.018494,
     "end_time": "2023-03-08T07:47:29.401603",
     "exception": false,
     "start_time": "2023-03-08T07:47:28.383109",
     "status": "completed"
    },
    "tags": []
   },
   "outputs": [
    {
     "data": {
      "image/png": "[encoded data removed]",
      "text/plain": [
       "<Figure size 1440x360 with 2 Axes>"
      ]
     },
     "metadata": {},
     "output_type": "display_data"
    }
   ],
   "source": [
    "age_hue_histplot(entire_df, cat = ['Pclass', 'Title'])"
   ]
  },
  {
   "cell_type": "markdown",
   "id": "36a8bc60",
   "metadata": {
    "papermill": {
     "duration": 0.020221,
     "end_time": "2023-03-08T07:47:29.442932",
     "exception": false,
     "start_time": "2023-03-08T07:47:29.422711",
     "status": "completed"
    },
    "tags": []
   },
   "source": [
    "* Based on the distribution, `Title` has **distinct** `Age` **median** than `Pclass`.\n",
    "* Median age grouped by `Title` is used for **median** imputation."
   ]
  },
  {
   "cell_type": "code",
   "execution_count": 19,
   "id": "68de5475",
   "metadata": {
    "execution": {
     "iopub.execute_input": "2023-03-08T07:47:29.485807Z",
     "iopub.status.busy": "2023-03-08T07:47:29.485284Z",
     "iopub.status.idle": "2023-03-08T07:47:29.494213Z",
     "shell.execute_reply": "2023-03-08T07:47:29.493264Z"
    },
    "papermill": {
     "duration": 0.032552,
     "end_time": "2023-03-08T07:47:29.495949",
     "exception": false,
     "start_time": "2023-03-08T07:47:29.463397",
     "status": "completed"
    },
    "tags": []
   },
   "outputs": [
    {
     "name": "stdout",
     "output_type": "stream",
     "text": [
      "Median age grouped by Title:\n"
     ]
    },
    {
     "data": {
      "text/plain": [
       "Title\n",
       "Dr        49.0\n",
       "Master     4.0\n",
       "Miss      22.0\n",
       "Mr        30.0\n",
       "Mrs       35.5\n",
       "Name: Age, dtype: float64"
      ]
     },
     "execution_count": 19,
     "metadata": {},
     "output_type": "execute_result"
    }
   ],
   "source": [
    "median_age = entire_df.groupby('Title')['Age'].median()\n",
    "\n",
    "print('Median age grouped by Title:')\n",
    "median_age"
   ]
  },
  {
   "cell_type": "code",
   "execution_count": 20,
   "id": "2ef0a5e6",
   "metadata": {
    "execution": {
     "iopub.execute_input": "2023-03-08T07:47:29.538636Z",
     "iopub.status.busy": "2023-03-08T07:47:29.538313Z",
     "iopub.status.idle": "2023-03-08T07:47:29.570170Z",
     "shell.execute_reply": "2023-03-08T07:47:29.568350Z"
    },
    "papermill": {
     "duration": 0.056453,
     "end_time": "2023-03-08T07:47:29.572897",
     "exception": false,
     "start_time": "2023-03-08T07:47:29.516444",
     "status": "completed"
    },
    "tags": []
   },
   "outputs": [],
   "source": [
    "# Fill age with median \n",
    "def fill_age(title, age):\n",
    "    if np.isnan(age): \n",
    "        return median_age.loc[title]\n",
    "    else:\n",
    "        return age\n",
    "\n",
    "    \n",
    "# Replace nan age with median age based on Title\n",
    "entire_df['Age'] = entire_df.apply(lambda x : fill_age(x['Title'], x['Age']), axis=1)   "
   ]
  },
  {
   "cell_type": "markdown",
   "id": "2240c710",
   "metadata": {
    "papermill": {
     "duration": 0.021465,
     "end_time": "2023-03-08T07:47:29.615318",
     "exception": false,
     "start_time": "2023-03-08T07:47:29.593853",
     "status": "completed"
    },
    "tags": []
   },
   "source": [
    "# **2.1.1 Fare**"
   ]
  },
  {
   "cell_type": "code",
   "execution_count": 21,
   "id": "e8855a41",
   "metadata": {
    "execution": {
     "iopub.execute_input": "2023-03-08T07:47:29.659935Z",
     "iopub.status.busy": "2023-03-08T07:47:29.659491Z",
     "iopub.status.idle": "2023-03-08T07:47:29.676000Z",
     "shell.execute_reply": "2023-03-08T07:47:29.675059Z"
    },
    "papermill": {
     "duration": 0.041021,
     "end_time": "2023-03-08T07:47:29.677862",
     "exception": false,
     "start_time": "2023-03-08T07:47:29.636841",
     "status": "completed"
    },
    "tags": []
   },
   "outputs": [
    {
     "data": {
      "text/html": [
       "<div>\n",
       "<style scoped>\n",
       "    .dataframe tbody tr th:only-of-type {\n",
       "        vertical-align: middle;\n",
       "    }\n",
       "\n",
       "    .dataframe tbody tr th {\n",
       "        vertical-align: top;\n",
       "    }\n",
       "\n",
       "    .dataframe thead th {\n",
       "        text-align: right;\n",
       "    }\n",
       "</style>\n",
       "<table border=\"1\" class=\"dataframe\">\n",
       "  <thead>\n",
       "    <tr style=\"text-align: right;\">\n",
       "      <th></th>\n",
       "      <th>Feature 1</th>\n",
       "      <th>Feature 2</th>\n",
       "      <th>Correlation Coefficient</th>\n",
       "    </tr>\n",
       "  </thead>\n",
       "  <tbody>\n",
       "    <tr>\n",
       "      <th>6</th>\n",
       "      <td>Fare</td>\n",
       "      <td>Fare</td>\n",
       "      <td>1.0000</td>\n",
       "    </tr>\n",
       "    <tr>\n",
       "      <th>7</th>\n",
       "      <td>Fare</td>\n",
       "      <td>Pclass</td>\n",
       "      <td>0.5586</td>\n",
       "    </tr>\n",
       "    <tr>\n",
       "      <th>15</th>\n",
       "      <td>Fare</td>\n",
       "      <td>Survived</td>\n",
       "      <td>0.2573</td>\n",
       "    </tr>\n",
       "    <tr>\n",
       "      <th>17</th>\n",
       "      <td>Fare</td>\n",
       "      <td>Parch</td>\n",
       "      <td>0.2215</td>\n",
       "    </tr>\n",
       "    <tr>\n",
       "      <th>21</th>\n",
       "      <td>Fare</td>\n",
       "      <td>Age</td>\n",
       "      <td>0.1778</td>\n",
       "    </tr>\n",
       "    <tr>\n",
       "      <th>24</th>\n",
       "      <td>Fare</td>\n",
       "      <td>SibSp</td>\n",
       "      <td>0.1602</td>\n",
       "    </tr>\n",
       "    <tr>\n",
       "      <th>39</th>\n",
       "      <td>Fare</td>\n",
       "      <td>PassengerId</td>\n",
       "      <td>0.0314</td>\n",
       "    </tr>\n",
       "  </tbody>\n",
       "</table>\n",
       "</div>"
      ],
      "text/plain": [
       "   Feature 1    Feature 2  Correlation Coefficient\n",
       "6       Fare         Fare                   1.0000\n",
       "7       Fare       Pclass                   0.5586\n",
       "15      Fare     Survived                   0.2573\n",
       "17      Fare        Parch                   0.2215\n",
       "21      Fare          Age                   0.1778\n",
       "24      Fare        SibSp                   0.1602\n",
       "39      Fare  PassengerId                   0.0314"
      ]
     },
     "execution_count": 21,
     "metadata": {},
     "output_type": "execute_result"
    }
   ],
   "source": [
    "# Compute the correlation between Fare and Numerical Features\n",
    "num_corr('Fare')"
   ]
  },
  {
   "cell_type": "code",
   "execution_count": 22,
   "id": "c7364a00",
   "metadata": {
    "execution": {
     "iopub.execute_input": "2023-03-08T07:47:29.722436Z",
     "iopub.status.busy": "2023-03-08T07:47:29.721919Z",
     "iopub.status.idle": "2023-03-08T07:47:29.734114Z",
     "shell.execute_reply": "2023-03-08T07:47:29.732323Z"
    },
    "papermill": {
     "duration": 0.036937,
     "end_time": "2023-03-08T07:47:29.736200",
     "exception": false,
     "start_time": "2023-03-08T07:47:29.699263",
     "status": "completed"
    },
    "tags": []
   },
   "outputs": [
    {
     "name": "stdout",
     "output_type": "stream",
     "text": [
      "Correlation between Fare and Categorical Features:\n",
      "Sex : 0.1855\n",
      "Title : 0.1450\n",
      "Embarked : 0.0588\n"
     ]
    }
   ],
   "source": [
    "# Compute the correlation between Fare and Categorical Features\n",
    "cat_corr('Fare')"
   ]
  },
  {
   "cell_type": "markdown",
   "id": "3cc5e757",
   "metadata": {
    "papermill": {
     "duration": 0.020506,
     "end_time": "2023-03-08T07:47:29.777653",
     "exception": false,
     "start_time": "2023-03-08T07:47:29.757147",
     "status": "completed"
    },
    "tags": []
   },
   "source": [
    "* Based on correlation, `Fare` and `Pclass` have a **moderately strong positive** relationship."
   ]
  },
  {
   "cell_type": "code",
   "execution_count": 23,
   "id": "2833b9e6",
   "metadata": {
    "execution": {
     "iopub.execute_input": "2023-03-08T07:47:29.820990Z",
     "iopub.status.busy": "2023-03-08T07:47:29.820632Z",
     "iopub.status.idle": "2023-03-08T07:47:31.156561Z",
     "shell.execute_reply": "2023-03-08T07:47:31.155179Z"
    },
    "papermill": {
     "duration": 1.360535,
     "end_time": "2023-03-08T07:47:31.158971",
     "exception": false,
     "start_time": "2023-03-08T07:47:29.798436",
     "status": "completed"
    },
    "tags": []
   },
   "outputs": [
    {
     "data": {
      "text/plain": [
       "Text(0.5, 1.0, 'Fare Distribution based on Ticket Class')"
      ]
     },
     "execution_count": 23,
     "metadata": {},
     "output_type": "execute_result"
    },
    {
     "data": {
      "image/png": "[encoded data removed]",
      "text/plain": [
       "<Figure size 1440x360 with 2 Axes>"
      ]
     },
     "metadata": {},
     "output_type": "display_data"
    }
   ],
   "source": [
    "fig, ax = plt.subplots(1, 2, figsize=(20,5))\n",
    "\n",
    "sns.histplot(data=entire_df, x='Fare', kde=True, palette='PuBu', ax=ax[0])\n",
    "ax[0].set_title('Fare Distribution')\n",
    "sns.histplot(data=entire_df, x='Fare', hue='Pclass', palette='PuBu', kde=True, ax=ax[1])\n",
    "ax[1].set_title('Fare Distribution based on Ticket Class')"
   ]
  },
  {
   "cell_type": "markdown",
   "id": "52169b0f",
   "metadata": {
    "papermill": {
     "duration": 0.024709,
     "end_time": "2023-03-08T07:47:31.207561",
     "exception": false,
     "start_time": "2023-03-08T07:47:31.182852",
     "status": "completed"
    },
    "tags": []
   },
   "source": [
    "* The `Fare` distribution is **right skewed**. \n",
    "* Median fare grouped by `Pclass` is used for **median** imputation."
   ]
  },
  {
   "cell_type": "code",
   "execution_count": 24,
   "id": "212ed81e",
   "metadata": {
    "execution": {
     "iopub.execute_input": "2023-03-08T07:47:31.253452Z",
     "iopub.status.busy": "2023-03-08T07:47:31.252486Z",
     "iopub.status.idle": "2023-03-08T07:47:31.815505Z",
     "shell.execute_reply": "2023-03-08T07:47:31.814123Z"
    },
    "papermill": {
     "duration": 0.588092,
     "end_time": "2023-03-08T07:47:31.818202",
     "exception": false,
     "start_time": "2023-03-08T07:47:31.230110",
     "status": "completed"
    },
    "tags": []
   },
   "outputs": [],
   "source": [
    "# Fill fare with median \n",
    "def fill_fare(pclass, fare):\n",
    "    median_fare = entire_df.groupby('Pclass')['Fare'].median()\n",
    "    if np.isnan(fare):\n",
    "        return median_fare.loc[pclass]\n",
    "    else:\n",
    "        return fare\n",
    "\n",
    "# Replace nan Fare with median fare based on Pclass\n",
    "entire_df['Fare'] = entire_df.apply(lambda x : fill_fare(x['Pclass'], x['Fare']), axis=1) "
   ]
  },
  {
   "cell_type": "markdown",
   "id": "cefb1914",
   "metadata": {
    "papermill": {
     "duration": 0.021185,
     "end_time": "2023-03-08T07:47:31.861182",
     "exception": false,
     "start_time": "2023-03-08T07:47:31.839997",
     "status": "completed"
    },
    "tags": []
   },
   "source": [
    "# **2.1.2 Cabin** "
   ]
  },
  {
   "cell_type": "code",
   "execution_count": 25,
   "id": "f0bd5997",
   "metadata": {
    "execution": {
     "iopub.execute_input": "2023-03-08T07:47:31.905874Z",
     "iopub.status.busy": "2023-03-08T07:47:31.905445Z",
     "iopub.status.idle": "2023-03-08T07:47:31.911284Z",
     "shell.execute_reply": "2023-03-08T07:47:31.910354Z"
    },
    "papermill": {
     "duration": 0.030279,
     "end_time": "2023-03-08T07:47:31.913148",
     "exception": false,
     "start_time": "2023-03-08T07:47:31.882869",
     "status": "completed"
    },
    "tags": []
   },
   "outputs": [],
   "source": [
    "# Drop the Cabin column since missing values > 70% \n",
    "entire_df.drop(['Cabin'], axis=1, inplace=True)"
   ]
  },
  {
   "cell_type": "markdown",
   "id": "23dac055",
   "metadata": {
    "papermill": {
     "duration": 0.021466,
     "end_time": "2023-03-08T07:47:31.956566",
     "exception": false,
     "start_time": "2023-03-08T07:47:31.935100",
     "status": "completed"
    },
    "tags": []
   },
   "source": [
    "# **2.1.3 Embarked** "
   ]
  },
  {
   "cell_type": "code",
   "execution_count": 26,
   "id": "003893b2",
   "metadata": {
    "execution": {
     "iopub.execute_input": "2023-03-08T07:47:32.001924Z",
     "iopub.status.busy": "2023-03-08T07:47:32.001496Z",
     "iopub.status.idle": "2023-03-08T07:47:32.132921Z",
     "shell.execute_reply": "2023-03-08T07:47:32.132117Z"
    },
    "papermill": {
     "duration": 0.156714,
     "end_time": "2023-03-08T07:47:32.135111",
     "exception": false,
     "start_time": "2023-03-08T07:47:31.978397",
     "status": "completed"
    },
    "tags": []
   },
   "outputs": [
    {
     "data": {
      "text/plain": [
       "Text(0.5, 1.0, 'Pie Chart: Embarked')"
      ]
     },
     "execution_count": 26,
     "metadata": {},
     "output_type": "execute_result"
    },
    {
     "data": {
      "image/png": "[encoded data removed]",
      "text/plain": [
       "<Figure size 720x360 with 1 Axes>"
      ]
     },
     "metadata": {},
     "output_type": "display_data"
    }
   ],
   "source": [
    "entire_df.groupby('Embarked').size().plot(kind='pie', autopct='%.2f', labeldistance=1.1, colors=['skyblue', 'lightblue', 'steelblue'])\n",
    "plt.title('Pie Chart: Embarked')"
   ]
  },
  {
   "cell_type": "code",
   "execution_count": 27,
   "id": "5fcc52ea",
   "metadata": {
    "execution": {
     "iopub.execute_input": "2023-03-08T07:47:32.196344Z",
     "iopub.status.busy": "2023-03-08T07:47:32.195819Z",
     "iopub.status.idle": "2023-03-08T07:47:32.201369Z",
     "shell.execute_reply": "2023-03-08T07:47:32.200650Z"
    },
    "papermill": {
     "duration": 0.039833,
     "end_time": "2023-03-08T07:47:32.204285",
     "exception": false,
     "start_time": "2023-03-08T07:47:32.164452",
     "status": "completed"
    },
    "tags": []
   },
   "outputs": [],
   "source": [
    "# Embarked is a categorical variable\n",
    "# Replace nan Embarked with mode\n",
    "entire_df['Embarked'].fillna(entire_df['Embarked'].mode()[0], inplace=True)"
   ]
  },
  {
   "cell_type": "markdown",
   "id": "3910ae54",
   "metadata": {
    "papermill": {
     "duration": 0.023581,
     "end_time": "2023-03-08T07:47:32.255476",
     "exception": false,
     "start_time": "2023-03-08T07:47:32.231895",
     "status": "completed"
    },
    "tags": []
   },
   "source": [
    "# **2.2 Creating Feature - Family size**"
   ]
  },
  {
   "cell_type": "code",
   "execution_count": 28,
   "id": "a269ae6a",
   "metadata": {
    "execution": {
     "iopub.execute_input": "2023-03-08T07:47:32.302915Z",
     "iopub.status.busy": "2023-03-08T07:47:32.302192Z",
     "iopub.status.idle": "2023-03-08T07:47:32.310332Z",
     "shell.execute_reply": "2023-03-08T07:47:32.308884Z"
    },
    "papermill": {
     "duration": 0.034341,
     "end_time": "2023-03-08T07:47:32.312692",
     "exception": false,
     "start_time": "2023-03-08T07:47:32.278351",
     "status": "completed"
    },
    "tags": []
   },
   "outputs": [
    {
     "data": {
      "text/plain": [
       "array([ 2,  1,  5,  3,  7,  6,  4,  8, 11])"
      ]
     },
     "execution_count": 28,
     "metadata": {},
     "output_type": "execute_result"
    }
   ],
   "source": [
    "entire_df['Fam'] = entire_df['SibSp'] + entire_df['Parch'] + 1\n",
    "\n",
    "entire_df['Fam'].unique()"
   ]
  },
  {
   "cell_type": "code",
   "execution_count": 29,
   "id": "d82e0af8",
   "metadata": {
    "execution": {
     "iopub.execute_input": "2023-03-08T07:47:32.360374Z",
     "iopub.status.busy": "2023-03-08T07:47:32.359911Z",
     "iopub.status.idle": "2023-03-08T07:47:32.374921Z",
     "shell.execute_reply": "2023-03-08T07:47:32.373191Z"
    },
    "papermill": {
     "duration": 0.042481,
     "end_time": "2023-03-08T07:47:32.377592",
     "exception": false,
     "start_time": "2023-03-08T07:47:32.335111",
     "status": "completed"
    },
    "tags": []
   },
   "outputs": [
    {
     "name": "stdout",
     "output_type": "stream",
     "text": [
      "<class 'pandas.core.frame.DataFrame'>\n",
      "RangeIndex: 1309 entries, 0 to 1308\n",
      "Data columns (total 13 columns):\n",
      " #   Column       Non-Null Count  Dtype  \n",
      "---  ------       --------------  -----  \n",
      " 0   PassengerId  1309 non-null   int64  \n",
      " 1   Survived     891 non-null    float64\n",
      " 2   Pclass       1309 non-null   int64  \n",
      " 3   Name         1309 non-null   object \n",
      " 4   Sex          1309 non-null   object \n",
      " 5   Age          1309 non-null   float64\n",
      " 6   SibSp        1309 non-null   int64  \n",
      " 7   Parch        1309 non-null   int64  \n",
      " 8   Ticket       1309 non-null   object \n",
      " 9   Fare         1309 non-null   float64\n",
      " 10  Embarked     1309 non-null   object \n",
      " 11  Title        1309 non-null   object \n",
      " 12  Fam          1309 non-null   int64  \n",
      "dtypes: float64(3), int64(5), object(5)\n",
      "memory usage: 133.1+ KB\n"
     ]
    }
   ],
   "source": [
    "entire_df.info()"
   ]
  },
  {
   "cell_type": "markdown",
   "id": "e3608c5b",
   "metadata": {
    "papermill": {
     "duration": 0.022846,
     "end_time": "2023-03-08T07:47:32.423456",
     "exception": false,
     "start_time": "2023-03-08T07:47:32.400610",
     "status": "completed"
    },
    "tags": []
   },
   "source": [
    "# **2.3 Feature Transformation**"
   ]
  },
  {
   "cell_type": "code",
   "execution_count": 30,
   "id": "51a6b13f",
   "metadata": {
    "execution": {
     "iopub.execute_input": "2023-03-08T07:47:32.472391Z",
     "iopub.status.busy": "2023-03-08T07:47:32.472012Z",
     "iopub.status.idle": "2023-03-08T07:47:32.490930Z",
     "shell.execute_reply": "2023-03-08T07:47:32.489788Z"
    },
    "papermill": {
     "duration": 0.045743,
     "end_time": "2023-03-08T07:47:32.493091",
     "exception": false,
     "start_time": "2023-03-08T07:47:32.447348",
     "status": "completed"
    },
    "tags": []
   },
   "outputs": [
    {
     "data": {
      "text/html": [
       "<div>\n",
       "<style scoped>\n",
       "    .dataframe tbody tr th:only-of-type {\n",
       "        vertical-align: middle;\n",
       "    }\n",
       "\n",
       "    .dataframe tbody tr th {\n",
       "        vertical-align: top;\n",
       "    }\n",
       "\n",
       "    .dataframe thead th {\n",
       "        text-align: right;\n",
       "    }\n",
       "</style>\n",
       "<table border=\"1\" class=\"dataframe\">\n",
       "  <thead>\n",
       "    <tr style=\"text-align: right;\">\n",
       "      <th></th>\n",
       "      <th>PassengerId</th>\n",
       "      <th>Survived</th>\n",
       "      <th>Pclass</th>\n",
       "      <th>Name</th>\n",
       "      <th>Sex</th>\n",
       "      <th>Age</th>\n",
       "      <th>SibSp</th>\n",
       "      <th>Parch</th>\n",
       "      <th>Ticket</th>\n",
       "      <th>Fare</th>\n",
       "      <th>Embarked</th>\n",
       "      <th>Title</th>\n",
       "      <th>Fam</th>\n",
       "    </tr>\n",
       "  </thead>\n",
       "  <tbody>\n",
       "    <tr>\n",
       "      <th>886</th>\n",
       "      <td>887</td>\n",
       "      <td>0.0</td>\n",
       "      <td>2</td>\n",
       "      <td>Montvila, Rev. Juozas</td>\n",
       "      <td>male</td>\n",
       "      <td>27.0</td>\n",
       "      <td>0</td>\n",
       "      <td>0</td>\n",
       "      <td>211536</td>\n",
       "      <td>13.00</td>\n",
       "      <td>S</td>\n",
       "      <td>Mr</td>\n",
       "      <td>1</td>\n",
       "    </tr>\n",
       "    <tr>\n",
       "      <th>887</th>\n",
       "      <td>888</td>\n",
       "      <td>1.0</td>\n",
       "      <td>1</td>\n",
       "      <td>Graham, Miss. Margaret Edith</td>\n",
       "      <td>female</td>\n",
       "      <td>19.0</td>\n",
       "      <td>0</td>\n",
       "      <td>0</td>\n",
       "      <td>112053</td>\n",
       "      <td>30.00</td>\n",
       "      <td>S</td>\n",
       "      <td>Miss</td>\n",
       "      <td>1</td>\n",
       "    </tr>\n",
       "    <tr>\n",
       "      <th>888</th>\n",
       "      <td>889</td>\n",
       "      <td>0.0</td>\n",
       "      <td>3</td>\n",
       "      <td>Johnston, Miss. Catherine Helen \"Carrie\"</td>\n",
       "      <td>female</td>\n",
       "      <td>22.0</td>\n",
       "      <td>1</td>\n",
       "      <td>2</td>\n",
       "      <td>W./C. 6607</td>\n",
       "      <td>23.45</td>\n",
       "      <td>S</td>\n",
       "      <td>Miss</td>\n",
       "      <td>4</td>\n",
       "    </tr>\n",
       "    <tr>\n",
       "      <th>889</th>\n",
       "      <td>890</td>\n",
       "      <td>1.0</td>\n",
       "      <td>1</td>\n",
       "      <td>Behr, Mr. Karl Howell</td>\n",
       "      <td>male</td>\n",
       "      <td>26.0</td>\n",
       "      <td>0</td>\n",
       "      <td>0</td>\n",
       "      <td>111369</td>\n",
       "      <td>30.00</td>\n",
       "      <td>C</td>\n",
       "      <td>Mr</td>\n",
       "      <td>1</td>\n",
       "    </tr>\n",
       "    <tr>\n",
       "      <th>890</th>\n",
       "      <td>891</td>\n",
       "      <td>0.0</td>\n",
       "      <td>3</td>\n",
       "      <td>Dooley, Mr. Patrick</td>\n",
       "      <td>male</td>\n",
       "      <td>32.0</td>\n",
       "      <td>0</td>\n",
       "      <td>0</td>\n",
       "      <td>370376</td>\n",
       "      <td>7.75</td>\n",
       "      <td>Q</td>\n",
       "      <td>Mr</td>\n",
       "      <td>1</td>\n",
       "    </tr>\n",
       "  </tbody>\n",
       "</table>\n",
       "</div>"
      ],
      "text/plain": [
       "     PassengerId  Survived  Pclass                                      Name  \\\n",
       "886          887       0.0       2                     Montvila, Rev. Juozas   \n",
       "887          888       1.0       1              Graham, Miss. Margaret Edith   \n",
       "888          889       0.0       3  Johnston, Miss. Catherine Helen \"Carrie\"   \n",
       "889          890       1.0       1                     Behr, Mr. Karl Howell   \n",
       "890          891       0.0       3                       Dooley, Mr. Patrick   \n",
       "\n",
       "        Sex   Age  SibSp  Parch      Ticket   Fare Embarked Title  Fam  \n",
       "886    male  27.0      0      0      211536  13.00        S    Mr    1  \n",
       "887  female  19.0      0      0      112053  30.00        S  Miss    1  \n",
       "888  female  22.0      1      2  W./C. 6607  23.45        S  Miss    4  \n",
       "889    male  26.0      0      0      111369  30.00        C    Mr    1  \n",
       "890    male  32.0      0      0      370376   7.75        Q    Mr    1  "
      ]
     },
     "execution_count": 30,
     "metadata": {},
     "output_type": "execute_result"
    }
   ],
   "source": [
    "train_df = (entire_df.iloc[0:891]).copy()\n",
    "train_df.tail()"
   ]
  },
  {
   "cell_type": "markdown",
   "id": "ff5155ac",
   "metadata": {
    "papermill": {
     "duration": 0.022891,
     "end_time": "2023-03-08T07:47:32.538687",
     "exception": false,
     "start_time": "2023-03-08T07:47:32.515796",
     "status": "completed"
    },
    "tags": []
   },
   "source": [
    "# **2.3.0 Sex**"
   ]
  },
  {
   "cell_type": "code",
   "execution_count": 31,
   "id": "f567668a",
   "metadata": {
    "execution": {
     "iopub.execute_input": "2023-03-08T07:47:32.586444Z",
     "iopub.status.busy": "2023-03-08T07:47:32.586081Z",
     "iopub.status.idle": "2023-03-08T07:47:32.741538Z",
     "shell.execute_reply": "2023-03-08T07:47:32.740784Z"
    },
    "papermill": {
     "duration": 0.182002,
     "end_time": "2023-03-08T07:47:32.743701",
     "exception": false,
     "start_time": "2023-03-08T07:47:32.561699",
     "status": "completed"
    },
    "tags": []
   },
   "outputs": [
    {
     "data": {
      "image/png": "[encoded data removed]",
      "text/plain": [
       "<Figure size 720x360 with 2 Axes>"
      ]
     },
     "metadata": {},
     "output_type": "display_data"
    }
   ],
   "source": [
    "fig = plt.figure(figsize=(10,5))\n",
    "\n",
    "i = 0\n",
    "for gender in train_df['Sex'].unique():\n",
    "    fig.add_subplot(1, 2, i+1)\n",
    "    plt.title('Gender : {}'.format(gender))\n",
    "    train_df.Survived[train_df['Sex'] == gender].value_counts().plot(kind='pie', autopct='%.2f', colors=['lightblue', 'steelblue'])\n",
    "    i += 1"
   ]
  },
  {
   "cell_type": "markdown",
   "id": "61b346a7",
   "metadata": {
    "papermill": {
     "duration": 0.030993,
     "end_time": "2023-03-08T07:47:32.805454",
     "exception": false,
     "start_time": "2023-03-08T07:47:32.774461",
     "status": "completed"
    },
    "tags": []
   },
   "source": [
    "* **Female** passengers were **more likely to survive** than male passengers.\n",
    "* **Rank Transformation** is used.\n",
    "* Male is replaced with 0. \n",
    "* female  is replaced with 1."
   ]
  },
  {
   "cell_type": "code",
   "execution_count": 32,
   "id": "e3e5b69b",
   "metadata": {
    "execution": {
     "iopub.execute_input": "2023-03-08T07:47:32.858437Z",
     "iopub.status.busy": "2023-03-08T07:47:32.857394Z",
     "iopub.status.idle": "2023-03-08T07:47:32.863540Z",
     "shell.execute_reply": "2023-03-08T07:47:32.862866Z"
    },
    "papermill": {
     "duration": 0.03299,
     "end_time": "2023-03-08T07:47:32.866044",
     "exception": false,
     "start_time": "2023-03-08T07:47:32.833054",
     "status": "completed"
    },
    "tags": []
   },
   "outputs": [],
   "source": [
    "gender_mapping = {'male':0,\n",
    "                  'female':1}\n",
    "\n",
    "train_df['Sex'] = train_df['Sex'].apply(lambda x : gender_mapping.get(x)) "
   ]
  },
  {
   "cell_type": "code",
   "execution_count": 33,
   "id": "7bd3b695",
   "metadata": {
    "execution": {
     "iopub.execute_input": "2023-03-08T07:47:32.914847Z",
     "iopub.status.busy": "2023-03-08T07:47:32.914388Z",
     "iopub.status.idle": "2023-03-08T07:47:32.921134Z",
     "shell.execute_reply": "2023-03-08T07:47:32.919895Z"
    },
    "papermill": {
     "duration": 0.034487,
     "end_time": "2023-03-08T07:47:32.923761",
     "exception": false,
     "start_time": "2023-03-08T07:47:32.889274",
     "status": "completed"
    },
    "tags": []
   },
   "outputs": [],
   "source": [
    "entire_df['Sex'] = entire_df['Sex'].apply(lambda x : gender_mapping.get(x))"
   ]
  },
  {
   "cell_type": "markdown",
   "id": "f9887f8e",
   "metadata": {
    "papermill": {
     "duration": 0.023048,
     "end_time": "2023-03-08T07:47:32.970711",
     "exception": false,
     "start_time": "2023-03-08T07:47:32.947663",
     "status": "completed"
    },
    "tags": []
   },
   "source": [
    "# **2.3.1  Embarked**"
   ]
  },
  {
   "cell_type": "code",
   "execution_count": 34,
   "id": "3b3c6197",
   "metadata": {
    "execution": {
     "iopub.execute_input": "2023-03-08T07:47:33.018580Z",
     "iopub.status.busy": "2023-03-08T07:47:33.018024Z",
     "iopub.status.idle": "2023-03-08T07:47:33.240284Z",
     "shell.execute_reply": "2023-03-08T07:47:33.238566Z"
    },
    "papermill": {
     "duration": 0.2493,
     "end_time": "2023-03-08T07:47:33.242569",
     "exception": false,
     "start_time": "2023-03-08T07:47:32.993269",
     "status": "completed"
    },
    "tags": []
   },
   "outputs": [
    {
     "data": {
      "image/png": "[encoded data removed]",
      "text/plain": [
       "<Figure size 1080x360 with 3 Axes>"
      ]
     },
     "metadata": {},
     "output_type": "display_data"
    }
   ],
   "source": [
    "fig = plt.figure(figsize=(15,5))\n",
    "\n",
    "i = 0\n",
    "for embark in train_df['Embarked'].unique():\n",
    "    fig.add_subplot(1, 3, i+1)\n",
    "    plt.title('Embarkation : {}'.format(embark))\n",
    "    train_df.Survived[train_df['Embarked'] == embark].value_counts().plot(kind='pie', autopct='%.2f', colors=['lightblue', 'steelblue'])\n",
    "    i += 1"
   ]
  },
  {
   "cell_type": "markdown",
   "id": "c14533d9",
   "metadata": {
    "papermill": {
     "duration": 0.030065,
     "end_time": "2023-03-08T07:47:33.303855",
     "exception": false,
     "start_time": "2023-03-08T07:47:33.273790",
     "status": "completed"
    },
    "tags": []
   },
   "source": [
    "* The passengers embarked from **Cherbourg** are **more likely to survive**, followed by Queenstown and Southampton.\n",
    "* **Rank Transformation** is used.\n",
    "* Southampton is replaced with 0.\n",
    "* Queenstown is replaced with 1.\n",
    "* Cherbourg is replaced with 1."
   ]
  },
  {
   "cell_type": "code",
   "execution_count": 35,
   "id": "4e87e7eb",
   "metadata": {
    "execution": {
     "iopub.execute_input": "2023-03-08T07:47:33.352945Z",
     "iopub.status.busy": "2023-03-08T07:47:33.352043Z",
     "iopub.status.idle": "2023-03-08T07:47:33.358452Z",
     "shell.execute_reply": "2023-03-08T07:47:33.357390Z"
    },
    "papermill": {
     "duration": 0.033288,
     "end_time": "2023-03-08T07:47:33.360627",
     "exception": false,
     "start_time": "2023-03-08T07:47:33.327339",
     "status": "completed"
    },
    "tags": []
   },
   "outputs": [],
   "source": [
    "embark_mapping = {'S':0,\n",
    "                  'Q':1,\n",
    "                  'C':2}\n",
    "\n",
    "train_df['Embarked'] = train_df['Embarked'].apply(lambda x : embark_mapping.get(x)) "
   ]
  },
  {
   "cell_type": "code",
   "execution_count": 36,
   "id": "fcb61686",
   "metadata": {
    "execution": {
     "iopub.execute_input": "2023-03-08T07:47:33.409141Z",
     "iopub.status.busy": "2023-03-08T07:47:33.408541Z",
     "iopub.status.idle": "2023-03-08T07:47:33.414417Z",
     "shell.execute_reply": "2023-03-08T07:47:33.413766Z"
    },
    "papermill": {
     "duration": 0.03249,
     "end_time": "2023-03-08T07:47:33.416378",
     "exception": false,
     "start_time": "2023-03-08T07:47:33.383888",
     "status": "completed"
    },
    "tags": []
   },
   "outputs": [],
   "source": [
    "entire_df['Embarked'] = entire_df['Embarked'].apply(lambda x : embark_mapping.get(x))"
   ]
  },
  {
   "cell_type": "markdown",
   "id": "8a511df5",
   "metadata": {
    "papermill": {
     "duration": 0.023755,
     "end_time": "2023-03-08T07:47:33.463808",
     "exception": false,
     "start_time": "2023-03-08T07:47:33.440053",
     "status": "completed"
    },
    "tags": []
   },
   "source": [
    "# **2.3.2 Title**"
   ]
  },
  {
   "cell_type": "code",
   "execution_count": 37,
   "id": "293579a3",
   "metadata": {
    "execution": {
     "iopub.execute_input": "2023-03-08T07:47:33.512930Z",
     "iopub.status.busy": "2023-03-08T07:47:33.512282Z",
     "iopub.status.idle": "2023-03-08T07:47:33.873255Z",
     "shell.execute_reply": "2023-03-08T07:47:33.872449Z"
    },
    "papermill": {
     "duration": 0.388312,
     "end_time": "2023-03-08T07:47:33.875583",
     "exception": false,
     "start_time": "2023-03-08T07:47:33.487271",
     "status": "completed"
    },
    "tags": []
   },
   "outputs": [
    {
     "data": {
      "image/png": "[encoded data removed]",
      "text/plain": [
       "<Figure size 1440x360 with 5 Axes>"
      ]
     },
     "metadata": {},
     "output_type": "display_data"
    }
   ],
   "source": [
    "fig = plt.figure(figsize=(20,5))\n",
    "\n",
    "i = 0\n",
    "for title in train_df['Title'].unique():\n",
    "    fig.add_subplot(1, 5, i+1)\n",
    "    plt.title('Title : {}'.format(title))\n",
    "    train_df.Survived[train_df['Title'] == title].value_counts().plot(kind='pie', autopct='%.2f', colors=['lightblue', 'steelblue'])\n",
    "    i += 1"
   ]
  },
  {
   "cell_type": "markdown",
   "id": "b8f2768a",
   "metadata": {
    "papermill": {
     "duration": 0.024949,
     "end_time": "2023-03-08T07:47:33.934107",
     "exception": false,
     "start_time": "2023-03-08T07:47:33.909158",
     "status": "completed"
    },
    "tags": []
   },
   "source": [
    "* The title of **Mrs** are **more likely to survive**, followed by Miss, Master, Dr, Mr.\n",
    "* **Rank Transformation** is used."
   ]
  },
  {
   "cell_type": "code",
   "execution_count": 38,
   "id": "7b8cb1e3",
   "metadata": {
    "execution": {
     "iopub.execute_input": "2023-03-08T07:47:33.984198Z",
     "iopub.status.busy": "2023-03-08T07:47:33.983512Z",
     "iopub.status.idle": "2023-03-08T07:47:33.990353Z",
     "shell.execute_reply": "2023-03-08T07:47:33.989199Z"
    },
    "papermill": {
     "duration": 0.035418,
     "end_time": "2023-03-08T07:47:33.992988",
     "exception": false,
     "start_time": "2023-03-08T07:47:33.957570",
     "status": "completed"
    },
    "tags": []
   },
   "outputs": [],
   "source": [
    "title_mapping = {'Mr':0,\n",
    "                 'Dr':1,\n",
    "                 'Master':2,\n",
    "                 'Miss':3,\n",
    "                 'Mrs':4}\n",
    "\n",
    "train_df['Title'] = train_df['Title'].apply(lambda x : title_mapping.get(x)) "
   ]
  },
  {
   "cell_type": "code",
   "execution_count": 39,
   "id": "fb48bcaf",
   "metadata": {
    "execution": {
     "iopub.execute_input": "2023-03-08T07:47:34.046612Z",
     "iopub.status.busy": "2023-03-08T07:47:34.046044Z",
     "iopub.status.idle": "2023-03-08T07:47:34.052210Z",
     "shell.execute_reply": "2023-03-08T07:47:34.051029Z"
    },
    "papermill": {
     "duration": 0.036813,
     "end_time": "2023-03-08T07:47:34.054814",
     "exception": false,
     "start_time": "2023-03-08T07:47:34.018001",
     "status": "completed"
    },
    "tags": []
   },
   "outputs": [],
   "source": [
    "entire_df['Title'] = entire_df['Title'].apply(lambda x : title_mapping.get(x))"
   ]
  },
  {
   "cell_type": "markdown",
   "id": "d2237c2d",
   "metadata": {
    "papermill": {
     "duration": 0.023758,
     "end_time": "2023-03-08T07:47:34.102582",
     "exception": false,
     "start_time": "2023-03-08T07:47:34.078824",
     "status": "completed"
    },
    "tags": []
   },
   "source": [
    "# **2.3.3  Fam**"
   ]
  },
  {
   "cell_type": "code",
   "execution_count": 40,
   "id": "fa6fbe3c",
   "metadata": {
    "execution": {
     "iopub.execute_input": "2023-03-08T07:47:34.152333Z",
     "iopub.status.busy": "2023-03-08T07:47:34.151653Z",
     "iopub.status.idle": "2023-03-08T07:47:35.022305Z",
     "shell.execute_reply": "2023-03-08T07:47:35.021203Z"
    },
    "papermill": {
     "duration": 0.897757,
     "end_time": "2023-03-08T07:47:35.024249",
     "exception": false,
     "start_time": "2023-03-08T07:47:34.126492",
     "status": "completed"
    },
    "tags": []
   },
   "outputs": [
    {
     "data": {
      "image/png": "[encoded data removed]",
      "text/plain": [
       "<Figure size 1440x720 with 9 Axes>"
      ]
     },
     "metadata": {},
     "output_type": "display_data"
    }
   ],
   "source": [
    "fig = plt.figure(figsize=(20,10))\n",
    "\n",
    "i = 0\n",
    "for fam in train_df['Fam'].unique():\n",
    "    fig.add_subplot(2, 5, i+1)\n",
    "    plt.title('Family Size : {}'.format(fam))\n",
    "    train_df.Survived[train_df['Fam'] == fam].value_counts().plot(kind='pie', autopct='%.2f', colors=['lightblue', 'steelblue'])\n",
    "    i += 1"
   ]
  },
  {
   "cell_type": "markdown",
   "id": "cb52e61a",
   "metadata": {
    "papermill": {
     "duration": 0.025151,
     "end_time": "2023-03-08T07:47:35.075002",
     "exception": false,
     "start_time": "2023-03-08T07:47:35.049851",
     "status": "completed"
    },
    "tags": []
   },
   "source": [
    "* The **family size of 4** are **more likely to survive**, followed by 3, 2, 7, 1, 5, 6, 8 , 11.  \n",
    "* **Rank Transformation** is used."
   ]
  },
  {
   "cell_type": "code",
   "execution_count": 41,
   "id": "3324bd51",
   "metadata": {
    "execution": {
     "iopub.execute_input": "2023-03-08T07:47:35.126680Z",
     "iopub.status.busy": "2023-03-08T07:47:35.126256Z",
     "iopub.status.idle": "2023-03-08T07:47:35.133371Z",
     "shell.execute_reply": "2023-03-08T07:47:35.132237Z"
    },
    "papermill": {
     "duration": 0.035435,
     "end_time": "2023-03-08T07:47:35.135677",
     "exception": false,
     "start_time": "2023-03-08T07:47:35.100242",
     "status": "completed"
    },
    "tags": []
   },
   "outputs": [],
   "source": [
    "fam_mapping = {11:0,\n",
    "               8:0,\n",
    "               6:2,\n",
    "               5:3,\n",
    "               1:4,\n",
    "               7:5,\n",
    "               2:6,\n",
    "               3:7,\n",
    "               4:8}\n",
    "\n",
    "train_df['Fam'] = train_df['Fam'].apply(lambda x : fam_mapping.get(x)) "
   ]
  },
  {
   "cell_type": "code",
   "execution_count": 42,
   "id": "157650fd",
   "metadata": {
    "execution": {
     "iopub.execute_input": "2023-03-08T07:47:35.186527Z",
     "iopub.status.busy": "2023-03-08T07:47:35.186135Z",
     "iopub.status.idle": "2023-03-08T07:47:35.193100Z",
     "shell.execute_reply": "2023-03-08T07:47:35.191941Z"
    },
    "papermill": {
     "duration": 0.035135,
     "end_time": "2023-03-08T07:47:35.195578",
     "exception": false,
     "start_time": "2023-03-08T07:47:35.160443",
     "status": "completed"
    },
    "tags": []
   },
   "outputs": [],
   "source": [
    "entire_df['Fam'] = entire_df['Fam'].apply(lambda x : fam_mapping.get(x))"
   ]
  },
  {
   "cell_type": "code",
   "execution_count": 43,
   "id": "d5deac3c",
   "metadata": {
    "execution": {
     "iopub.execute_input": "2023-03-08T07:47:35.248114Z",
     "iopub.status.busy": "2023-03-08T07:47:35.247373Z",
     "iopub.status.idle": "2023-03-08T07:47:35.262022Z",
     "shell.execute_reply": "2023-03-08T07:47:35.260854Z"
    },
    "papermill": {
     "duration": 0.043568,
     "end_time": "2023-03-08T07:47:35.263919",
     "exception": false,
     "start_time": "2023-03-08T07:47:35.220351",
     "status": "completed"
    },
    "tags": []
   },
   "outputs": [
    {
     "data": {
      "text/html": [
       "<div>\n",
       "<style scoped>\n",
       "    .dataframe tbody tr th:only-of-type {\n",
       "        vertical-align: middle;\n",
       "    }\n",
       "\n",
       "    .dataframe tbody tr th {\n",
       "        vertical-align: top;\n",
       "    }\n",
       "\n",
       "    .dataframe thead th {\n",
       "        text-align: right;\n",
       "    }\n",
       "</style>\n",
       "<table border=\"1\" class=\"dataframe\">\n",
       "  <thead>\n",
       "    <tr style=\"text-align: right;\">\n",
       "      <th></th>\n",
       "      <th>PassengerId</th>\n",
       "      <th>Survived</th>\n",
       "      <th>Pclass</th>\n",
       "      <th>Name</th>\n",
       "      <th>Sex</th>\n",
       "      <th>Age</th>\n",
       "      <th>SibSp</th>\n",
       "      <th>Parch</th>\n",
       "      <th>Ticket</th>\n",
       "      <th>Fare</th>\n",
       "      <th>Embarked</th>\n",
       "      <th>Title</th>\n",
       "      <th>Fam</th>\n",
       "    </tr>\n",
       "  </thead>\n",
       "  <tbody>\n",
       "    <tr>\n",
       "      <th>0</th>\n",
       "      <td>1</td>\n",
       "      <td>0.0</td>\n",
       "      <td>3</td>\n",
       "      <td>Braund, Mr. Owen Harris</td>\n",
       "      <td>0</td>\n",
       "      <td>22.0</td>\n",
       "      <td>1</td>\n",
       "      <td>0</td>\n",
       "      <td>A/5 21171</td>\n",
       "      <td>7.2500</td>\n",
       "      <td>0</td>\n",
       "      <td>0</td>\n",
       "      <td>6</td>\n",
       "    </tr>\n",
       "    <tr>\n",
       "      <th>1</th>\n",
       "      <td>2</td>\n",
       "      <td>1.0</td>\n",
       "      <td>1</td>\n",
       "      <td>Cumings, Mrs. John Bradley (Florence Briggs Th...</td>\n",
       "      <td>1</td>\n",
       "      <td>38.0</td>\n",
       "      <td>1</td>\n",
       "      <td>0</td>\n",
       "      <td>PC 17599</td>\n",
       "      <td>71.2833</td>\n",
       "      <td>2</td>\n",
       "      <td>4</td>\n",
       "      <td>6</td>\n",
       "    </tr>\n",
       "    <tr>\n",
       "      <th>2</th>\n",
       "      <td>3</td>\n",
       "      <td>1.0</td>\n",
       "      <td>3</td>\n",
       "      <td>Heikkinen, Miss. Laina</td>\n",
       "      <td>1</td>\n",
       "      <td>26.0</td>\n",
       "      <td>0</td>\n",
       "      <td>0</td>\n",
       "      <td>STON/O2. 3101282</td>\n",
       "      <td>7.9250</td>\n",
       "      <td>0</td>\n",
       "      <td>3</td>\n",
       "      <td>4</td>\n",
       "    </tr>\n",
       "  </tbody>\n",
       "</table>\n",
       "</div>"
      ],
      "text/plain": [
       "   PassengerId  Survived  Pclass  \\\n",
       "0            1       0.0       3   \n",
       "1            2       1.0       1   \n",
       "2            3       1.0       3   \n",
       "\n",
       "                                                Name  Sex   Age  SibSp  Parch  \\\n",
       "0                            Braund, Mr. Owen Harris    0  22.0      1      0   \n",
       "1  Cumings, Mrs. John Bradley (Florence Briggs Th...    1  38.0      1      0   \n",
       "2                             Heikkinen, Miss. Laina    1  26.0      0      0   \n",
       "\n",
       "             Ticket     Fare  Embarked  Title  Fam  \n",
       "0         A/5 21171   7.2500         0      0    6  \n",
       "1          PC 17599  71.2833         2      4    6  \n",
       "2  STON/O2. 3101282   7.9250         0      3    4  "
      ]
     },
     "execution_count": 43,
     "metadata": {},
     "output_type": "execute_result"
    }
   ],
   "source": [
    "train_df.head(3)"
   ]
  },
  {
   "cell_type": "markdown",
   "id": "8721498f",
   "metadata": {
    "papermill": {
     "duration": 0.025041,
     "end_time": "2023-03-08T07:47:35.313875",
     "exception": false,
     "start_time": "2023-03-08T07:47:35.288834",
     "status": "completed"
    },
    "tags": []
   },
   "source": [
    "# **2.4 Feature Encoding - Ordinal Encoder**"
   ]
  },
  {
   "cell_type": "code",
   "execution_count": 44,
   "id": "b4797b7c",
   "metadata": {
    "execution": {
     "iopub.execute_input": "2023-03-08T07:47:35.370663Z",
     "iopub.status.busy": "2023-03-08T07:47:35.369374Z",
     "iopub.status.idle": "2023-03-08T07:47:35.559977Z",
     "shell.execute_reply": "2023-03-08T07:47:35.558151Z"
    },
    "papermill": {
     "duration": 0.220656,
     "end_time": "2023-03-08T07:47:35.562563",
     "exception": false,
     "start_time": "2023-03-08T07:47:35.341907",
     "status": "completed"
    },
    "tags": []
   },
   "outputs": [],
   "source": [
    "from sklearn.preprocessing import OrdinalEncoder\n",
    "\n",
    "features = ['Name', 'Ticket']\n",
    "\n",
    "for feat in features:\n",
    "    entire_df[feat] = OrdinalEncoder().fit_transform(entire_df[feat].values.reshape(-1, 1))"
   ]
  },
  {
   "cell_type": "markdown",
   "id": "b0355d9b",
   "metadata": {
    "papermill": {
     "duration": 0.026084,
     "end_time": "2023-03-08T07:47:35.613573",
     "exception": false,
     "start_time": "2023-03-08T07:47:35.587489",
     "status": "completed"
    },
    "tags": []
   },
   "source": [
    "# **2.5 Feature Scaling - MinMaxScaler**"
   ]
  },
  {
   "cell_type": "code",
   "execution_count": 45,
   "id": "c1fe0d10",
   "metadata": {
    "execution": {
     "iopub.execute_input": "2023-03-08T07:47:35.665892Z",
     "iopub.status.busy": "2023-03-08T07:47:35.665457Z",
     "iopub.status.idle": "2023-03-08T07:47:35.678418Z",
     "shell.execute_reply": "2023-03-08T07:47:35.677394Z"
    },
    "papermill": {
     "duration": 0.042338,
     "end_time": "2023-03-08T07:47:35.680982",
     "exception": false,
     "start_time": "2023-03-08T07:47:35.638644",
     "status": "completed"
    },
    "tags": []
   },
   "outputs": [],
   "source": [
    "from sklearn.preprocessing import MinMaxScaler\n",
    "\n",
    "features = ['Name', 'Pclass', 'Age', 'Sex', 'Fare', 'SibSp', 'Parch', 'Ticket','Embarked', 'Fam', 'Title']\n",
    "\n",
    "for feat in features:\n",
    "    entire_df[feat] = MinMaxScaler().fit_transform(entire_df[feat].values.reshape(-1, 1))"
   ]
  },
  {
   "cell_type": "code",
   "execution_count": 46,
   "id": "666ea8df",
   "metadata": {
    "execution": {
     "iopub.execute_input": "2023-03-08T07:47:35.733930Z",
     "iopub.status.busy": "2023-03-08T07:47:35.732932Z",
     "iopub.status.idle": "2023-03-08T07:47:35.750238Z",
     "shell.execute_reply": "2023-03-08T07:47:35.748368Z"
    },
    "papermill": {
     "duration": 0.047536,
     "end_time": "2023-03-08T07:47:35.753639",
     "exception": false,
     "start_time": "2023-03-08T07:47:35.706103",
     "status": "completed"
    },
    "tags": []
   },
   "outputs": [
    {
     "name": "stdout",
     "output_type": "stream",
     "text": [
      "<class 'pandas.core.frame.DataFrame'>\n",
      "RangeIndex: 1309 entries, 0 to 1308\n",
      "Data columns (total 13 columns):\n",
      " #   Column       Non-Null Count  Dtype  \n",
      "---  ------       --------------  -----  \n",
      " 0   PassengerId  1309 non-null   int64  \n",
      " 1   Survived     891 non-null    float64\n",
      " 2   Pclass       1309 non-null   float64\n",
      " 3   Name         1309 non-null   float64\n",
      " 4   Sex          1309 non-null   float64\n",
      " 5   Age          1309 non-null   float64\n",
      " 6   SibSp        1309 non-null   float64\n",
      " 7   Parch        1309 non-null   float64\n",
      " 8   Ticket       1309 non-null   float64\n",
      " 9   Fare         1309 non-null   float64\n",
      " 10  Embarked     1309 non-null   float64\n",
      " 11  Title        1309 non-null   float64\n",
      " 12  Fam          1309 non-null   float64\n",
      "dtypes: float64(12), int64(1)\n",
      "memory usage: 133.1 KB\n"
     ]
    }
   ],
   "source": [
    "entire_df.info()"
   ]
  },
  {
   "cell_type": "code",
   "execution_count": 47,
   "id": "f53cc3b6",
   "metadata": {
    "execution": {
     "iopub.execute_input": "2023-03-08T07:47:35.807934Z",
     "iopub.status.busy": "2023-03-08T07:47:35.807330Z",
     "iopub.status.idle": "2023-03-08T07:47:35.823875Z",
     "shell.execute_reply": "2023-03-08T07:47:35.823161Z"
    },
    "papermill": {
     "duration": 0.046487,
     "end_time": "2023-03-08T07:47:35.825908",
     "exception": false,
     "start_time": "2023-03-08T07:47:35.779421",
     "status": "completed"
    },
    "tags": []
   },
   "outputs": [
    {
     "data": {
      "text/html": [
       "<div>\n",
       "<style scoped>\n",
       "    .dataframe tbody tr th:only-of-type {\n",
       "        vertical-align: middle;\n",
       "    }\n",
       "\n",
       "    .dataframe tbody tr th {\n",
       "        vertical-align: top;\n",
       "    }\n",
       "\n",
       "    .dataframe thead th {\n",
       "        text-align: right;\n",
       "    }\n",
       "</style>\n",
       "<table border=\"1\" class=\"dataframe\">\n",
       "  <thead>\n",
       "    <tr style=\"text-align: right;\">\n",
       "      <th></th>\n",
       "      <th>PassengerId</th>\n",
       "      <th>Survived</th>\n",
       "      <th>Pclass</th>\n",
       "      <th>Name</th>\n",
       "      <th>Sex</th>\n",
       "      <th>Age</th>\n",
       "      <th>SibSp</th>\n",
       "      <th>Parch</th>\n",
       "      <th>Ticket</th>\n",
       "      <th>Fare</th>\n",
       "      <th>Embarked</th>\n",
       "      <th>Title</th>\n",
       "      <th>Fam</th>\n",
       "    </tr>\n",
       "  </thead>\n",
       "  <tbody>\n",
       "    <tr>\n",
       "      <th>0</th>\n",
       "      <td>1</td>\n",
       "      <td>0.0</td>\n",
       "      <td>1.0</td>\n",
       "      <td>0.118683</td>\n",
       "      <td>0.0</td>\n",
       "      <td>0.273456</td>\n",
       "      <td>0.125</td>\n",
       "      <td>0.0</td>\n",
       "      <td>0.775862</td>\n",
       "      <td>0.014151</td>\n",
       "      <td>0.0</td>\n",
       "      <td>0.00</td>\n",
       "      <td>0.75</td>\n",
       "    </tr>\n",
       "    <tr>\n",
       "      <th>1</th>\n",
       "      <td>2</td>\n",
       "      <td>1.0</td>\n",
       "      <td>0.0</td>\n",
       "      <td>0.218989</td>\n",
       "      <td>1.0</td>\n",
       "      <td>0.473882</td>\n",
       "      <td>0.125</td>\n",
       "      <td>0.0</td>\n",
       "      <td>0.879310</td>\n",
       "      <td>0.139136</td>\n",
       "      <td>1.0</td>\n",
       "      <td>1.00</td>\n",
       "      <td>0.75</td>\n",
       "    </tr>\n",
       "    <tr>\n",
       "      <th>2</th>\n",
       "      <td>3</td>\n",
       "      <td>1.0</td>\n",
       "      <td>1.0</td>\n",
       "      <td>0.400459</td>\n",
       "      <td>1.0</td>\n",
       "      <td>0.323563</td>\n",
       "      <td>0.000</td>\n",
       "      <td>0.0</td>\n",
       "      <td>0.984914</td>\n",
       "      <td>0.015469</td>\n",
       "      <td>0.0</td>\n",
       "      <td>0.75</td>\n",
       "      <td>0.50</td>\n",
       "    </tr>\n",
       "  </tbody>\n",
       "</table>\n",
       "</div>"
      ],
      "text/plain": [
       "   PassengerId  Survived  Pclass      Name  Sex       Age  SibSp  Parch  \\\n",
       "0            1       0.0     1.0  0.118683  0.0  0.273456  0.125    0.0   \n",
       "1            2       1.0     0.0  0.218989  1.0  0.473882  0.125    0.0   \n",
       "2            3       1.0     1.0  0.400459  1.0  0.323563  0.000    0.0   \n",
       "\n",
       "     Ticket      Fare  Embarked  Title   Fam  \n",
       "0  0.775862  0.014151       0.0   0.00  0.75  \n",
       "1  0.879310  0.139136       1.0   1.00  0.75  \n",
       "2  0.984914  0.015469       0.0   0.75  0.50  "
      ]
     },
     "execution_count": 47,
     "metadata": {},
     "output_type": "execute_result"
    }
   ],
   "source": [
    "entire_df.head(3) "
   ]
  },
  {
   "cell_type": "code",
   "execution_count": 48,
   "id": "fff8fd19",
   "metadata": {
    "execution": {
     "iopub.execute_input": "2023-03-08T07:47:35.880777Z",
     "iopub.status.busy": "2023-03-08T07:47:35.880054Z",
     "iopub.status.idle": "2023-03-08T07:47:36.541269Z",
     "shell.execute_reply": "2023-03-08T07:47:36.538852Z"
    },
    "papermill": {
     "duration": 0.691593,
     "end_time": "2023-03-08T07:47:36.543902",
     "exception": false,
     "start_time": "2023-03-08T07:47:35.852309",
     "status": "completed"
    },
    "tags": []
   },
   "outputs": [
    {
     "data": {
      "text/plain": [
       "<AxesSubplot:>"
      ]
     },
     "execution_count": 48,
     "metadata": {},
     "output_type": "execute_result"
    },
    {
     "data": {
      "image/png": "[encoded data removed]",
      "text/plain": [
       "<Figure size 720x360 with 2 Axes>"
      ]
     },
     "metadata": {},
     "output_type": "display_data"
    }
   ],
   "source": [
    "train_df = (entire_df.iloc[0:891]).copy()\n",
    "corr_matrix = train_df.corr('spearman')\n",
    "sns.heatmap(corr_matrix, cbar=True, annot=True,  mask = np.triu(np.ones_like(corr_matrix, dtype = bool)), cmap='PuBu')"
   ]
  },
  {
   "cell_type": "markdown",
   "id": "f5b3574f",
   "metadata": {
    "papermill": {
     "duration": 0.028818,
     "end_time": "2023-03-08T07:47:36.601899",
     "exception": false,
     "start_time": "2023-03-08T07:47:36.573081",
     "status": "completed"
    },
    "tags": []
   },
   "source": [
    "# **3.0 Model Training**"
   ]
  },
  {
   "cell_type": "code",
   "execution_count": 49,
   "id": "744f1829",
   "metadata": {
    "execution": {
     "iopub.execute_input": "2023-03-08T07:47:36.656609Z",
     "iopub.status.busy": "2023-03-08T07:47:36.655513Z",
     "iopub.status.idle": "2023-03-08T07:47:36.802265Z",
     "shell.execute_reply": "2023-03-08T07:47:36.800850Z"
    },
    "papermill": {
     "duration": 0.176762,
     "end_time": "2023-03-08T07:47:36.804605",
     "exception": false,
     "start_time": "2023-03-08T07:47:36.627843",
     "status": "completed"
    },
    "tags": []
   },
   "outputs": [
    {
     "data": {
      "text/plain": [
       "Text(0.5, 1.0, 'Countplot of Survival')"
      ]
     },
     "execution_count": 49,
     "metadata": {},
     "output_type": "execute_result"
    },
    {
     "data": {
      "image/png": "[encoded data removed]",
      "text/plain": [
       "<Figure size 720x360 with 1 Axes>"
      ]
     },
     "metadata": {},
     "output_type": "display_data"
    }
   ],
   "source": [
    "ax = sns.countplot(data=train_df, x='Survived', palette='PuBu')\n",
    "for container in ax.containers:\n",
    "    ax.bar_label(container)\n",
    "plt.title('Countplot of Survival')"
   ]
  },
  {
   "cell_type": "markdown",
   "id": "11250e7f",
   "metadata": {
    "papermill": {
     "duration": 0.025859,
     "end_time": "2023-03-08T07:47:36.857289",
     "exception": false,
     "start_time": "2023-03-08T07:47:36.831430",
     "status": "completed"
    },
    "tags": []
   },
   "source": [
    "* In the Titanic, more passengers had died than had survived, which shows that the data is **imbalanced**.\n",
    "* **RandomForestClassifier**, **LogisticRegression with balanced class weight** and **ComplementNB** are selected for model training.\n",
    "* **GridSearchCV** is used to obtain the best estimator and parameters."
   ]
  },
  {
   "cell_type": "code",
   "execution_count": 50,
   "id": "3f8898c7",
   "metadata": {
    "execution": {
     "iopub.execute_input": "2023-03-08T07:47:36.911373Z",
     "iopub.status.busy": "2023-03-08T07:47:36.910720Z",
     "iopub.status.idle": "2023-03-08T07:47:36.917016Z",
     "shell.execute_reply": "2023-03-08T07:47:36.916006Z"
    },
    "papermill": {
     "duration": 0.035886,
     "end_time": "2023-03-08T07:47:36.919371",
     "exception": false,
     "start_time": "2023-03-08T07:47:36.883485",
     "status": "completed"
    },
    "tags": []
   },
   "outputs": [],
   "source": [
    "# Set a global seed to obtain stable results\n",
    "seed = 42\n",
    "\n",
    "np.random.seed(seed)\n",
    "random.seed(seed)\n",
    "tf.random.set_seed(seed)"
   ]
  },
  {
   "cell_type": "code",
   "execution_count": 51,
   "id": "1b4e8cfc",
   "metadata": {
    "execution": {
     "iopub.execute_input": "2023-03-08T07:47:36.974361Z",
     "iopub.status.busy": "2023-03-08T07:47:36.973939Z",
     "iopub.status.idle": "2023-03-08T07:48:40.092256Z",
     "shell.execute_reply": "2023-03-08T07:48:40.090452Z"
    },
    "papermill": {
     "duration": 63.173419,
     "end_time": "2023-03-08T07:48:40.119518",
     "exception": false,
     "start_time": "2023-03-08T07:47:36.946099",
     "status": "completed"
    },
    "tags": []
   },
   "outputs": [
    {
     "name": "stdout",
     "output_type": "stream",
     "text": [
      "Best: 0.833857 using {'classifier': RandomForestClassifier(max_depth=9, min_samples_leaf=3, min_samples_split=15,\n",
      "                       random_state=42), 'classifier__max_depth': 9, 'classifier__min_samples_leaf': 3, 'classifier__min_samples_split': 15}\n"
     ]
    }
   ],
   "source": [
    "X = train_df.copy()\n",
    "y = X.pop('Survived')\n",
    "\n",
    "from sklearn.model_selection import train_test_split\n",
    "X_train, X_valid, y_train, y_valid = train_test_split(X, y, random_state=seed)  \n",
    "\n",
    "\n",
    "from sklearn.model_selection import GridSearchCV\n",
    "from sklearn.ensemble import RandomForestClassifier\n",
    "from sklearn.linear_model import LogisticRegression\n",
    "from sklearn.naive_bayes import ComplementNB\n",
    "\n",
    "\n",
    "# Create first pipeline for base \n",
    "from sklearn.pipeline import Pipeline\n",
    "pipe = Pipeline([('classifier' , RandomForestClassifier(random_state=seed))])\n",
    "\n",
    "\n",
    "# Get the best estimator via GridSearch\n",
    "param_grid = [{'classifier' : [RandomForestClassifier(random_state=seed)],\n",
    "               'classifier__max_depth' : np.arange(3, 20, 3),\n",
    "               'classifier__min_samples_split' : np.arange(3, 20, 3),\n",
    "               'classifier__min_samples_leaf' : np.arange(3, 20, 3)},\n",
    "  \n",
    "              {'classifier' : [LogisticRegression(random_state=seed, class_weight='balanced')],\n",
    "               'classifier__penalty' : ['l1', 'l2'],\n",
    "               'classifier__solver' : ['liblinear']},\n",
    "           \n",
    "              {'classifier' : [ComplementNB()],\n",
    "               'classifier__alpha': [0.01, 0.1, 0.5, 1.0],\n",
    "               'classifier__fit_prior': [True, False]}]\n",
    "\n",
    "\n",
    "grid_search = GridSearchCV(pipe, param_grid=param_grid, n_jobs=-1)\n",
    "grid_result = grid_search.fit(X_train, y_train)\n",
    "\n",
    "print(\"Best: %f using %s\" % (grid_result.best_score_, grid_result.best_params_))"
   ]
  },
  {
   "cell_type": "markdown",
   "id": "8f92ece1",
   "metadata": {
    "papermill": {
     "duration": 0.025774,
     "end_time": "2023-03-08T07:48:40.171759",
     "exception": false,
     "start_time": "2023-03-08T07:48:40.145985",
     "status": "completed"
    },
    "tags": []
   },
   "source": [
    "# **3.1 Ramdom Forest**"
   ]
  },
  {
   "cell_type": "code",
   "execution_count": 52,
   "id": "0e4bf919",
   "metadata": {
    "execution": {
     "iopub.execute_input": "2023-03-08T07:48:40.226134Z",
     "iopub.status.busy": "2023-03-08T07:48:40.225747Z",
     "iopub.status.idle": "2023-03-08T07:48:40.404437Z",
     "shell.execute_reply": "2023-03-08T07:48:40.402984Z"
    },
    "papermill": {
     "duration": 0.209414,
     "end_time": "2023-03-08T07:48:40.407183",
     "exception": false,
     "start_time": "2023-03-08T07:48:40.197769",
     "status": "completed"
    },
    "tags": []
   },
   "outputs": [],
   "source": [
    "# Re-train with the best estimator and parameters\n",
    "rf_model = RandomForestClassifier(max_depth=9, min_samples_leaf=3, min_samples_split=15, random_state=seed)\n",
    "rf_model.fit(X_train, y_train)\n",
    "rf_ypred = rf_model.predict(X_valid)"
   ]
  },
  {
   "cell_type": "markdown",
   "id": "bc7fd33c",
   "metadata": {
    "papermill": {
     "duration": 0.027147,
     "end_time": "2023-03-08T07:48:40.460305",
     "exception": false,
     "start_time": "2023-03-08T07:48:40.433158",
     "status": "completed"
    },
    "tags": []
   },
   "source": [
    "# **3.2 Feature Selection**"
   ]
  },
  {
   "cell_type": "code",
   "execution_count": 53,
   "id": "64fccf1d",
   "metadata": {
    "execution": {
     "iopub.execute_input": "2023-03-08T07:48:40.515885Z",
     "iopub.status.busy": "2023-03-08T07:48:40.515489Z",
     "iopub.status.idle": "2023-03-08T07:48:40.851772Z",
     "shell.execute_reply": "2023-03-08T07:48:40.850697Z"
    },
    "papermill": {
     "duration": 0.366728,
     "end_time": "2023-03-08T07:48:40.853826",
     "exception": false,
     "start_time": "2023-03-08T07:48:40.487098",
     "status": "completed"
    },
    "tags": []
   },
   "outputs": [
    {
     "data": {
      "image/png": "[encoded data removed]",
      "text/plain": [
       "<Figure size 720x360 with 1 Axes>"
      ]
     },
     "metadata": {},
     "output_type": "display_data"
    }
   ],
   "source": [
    "from sklearn.metrics import accuracy_score\n",
    "feature_imp = pd.Series(rf_model.feature_importances_, index=X_train.columns).sort_values(ascending=False)\n",
    "\n",
    "sns.barplot(x=feature_imp, y=feature_imp.index, palette='PuBu')\n",
    "plt.xlabel('Feature Importance Score')\n",
    "plt.ylabel('Features')\n",
    "plt.title('Feature Importance')\n",
    "plt.tight_layout()"
   ]
  },
  {
   "cell_type": "markdown",
   "id": "4edb2441",
   "metadata": {
    "papermill": {
     "duration": 0.026081,
     "end_time": "2023-03-08T07:48:40.906845",
     "exception": false,
     "start_time": "2023-03-08T07:48:40.880764",
     "status": "completed"
    },
    "tags": []
   },
   "source": [
    "* `Parch` has the lowest feature importance score, followed by`SibSp` and `Embarked`."
   ]
  },
  {
   "cell_type": "code",
   "execution_count": 54,
   "id": "3e1dd82a",
   "metadata": {
    "execution": {
     "iopub.execute_input": "2023-03-08T07:48:40.962399Z",
     "iopub.status.busy": "2023-03-08T07:48:40.961189Z",
     "iopub.status.idle": "2023-03-08T07:48:41.078845Z",
     "shell.execute_reply": "2023-03-08T07:48:41.077244Z"
    },
    "papermill": {
     "duration": 0.148029,
     "end_time": "2023-03-08T07:48:41.081376",
     "exception": false,
     "start_time": "2023-03-08T07:48:40.933347",
     "status": "completed"
    },
    "tags": []
   },
   "outputs": [
    {
     "name": "stdout",
     "output_type": "stream",
     "text": [
      "              precision    recall  f1-score   support\n",
      "\n",
      "         0.0       0.84      0.90      0.87       134\n",
      "         1.0       0.84      0.74      0.79        89\n",
      "\n",
      "    accuracy                           0.84       223\n",
      "   macro avg       0.84      0.82      0.83       223\n",
      "weighted avg       0.84      0.84      0.84       223\n",
      "\n",
      "Confusion Matrix of Orginal model:\n"
     ]
    },
    {
     "data": {
      "image/png": "[encoded data removed]",
      "text/plain": [
       "<Figure size 720x360 with 1 Axes>"
      ]
     },
     "metadata": {},
     "output_type": "display_data"
    }
   ],
   "source": [
    "from sklearn.metrics import classification_report, ConfusionMatrixDisplay\n",
    "\n",
    "print(classification_report(y_valid, rf_ypred))\n",
    "print('Confusion Matrix of Orginal model:')\n",
    "ConfusionMatrixDisplay.from_predictions(y_valid, rf_ypred, colorbar = False, cmap = 'PuBu')\n",
    "plt.grid(False)"
   ]
  },
  {
   "cell_type": "code",
   "execution_count": 55,
   "id": "0f481dbc",
   "metadata": {
    "execution": {
     "iopub.execute_input": "2023-03-08T07:48:41.156083Z",
     "iopub.status.busy": "2023-03-08T07:48:41.155269Z",
     "iopub.status.idle": "2023-03-08T07:48:41.443527Z",
     "shell.execute_reply": "2023-03-08T07:48:41.442768Z"
    },
    "papermill": {
     "duration": 0.32895,
     "end_time": "2023-03-08T07:48:41.446308",
     "exception": false,
     "start_time": "2023-03-08T07:48:41.117358",
     "status": "completed"
    },
    "tags": []
   },
   "outputs": [
    {
     "name": "stdout",
     "output_type": "stream",
     "text": [
      "              precision    recall  f1-score   support\n",
      "\n",
      "         0.0       0.85      0.90      0.87       134\n",
      "         1.0       0.83      0.75      0.79        89\n",
      "\n",
      "    accuracy                           0.84       223\n",
      "   macro avg       0.84      0.82      0.83       223\n",
      "weighted avg       0.84      0.84      0.84       223\n",
      "\n",
      "Confusion Matrix of New model:\n"
     ]
    },
    {
     "data": {
      "image/png": "[encoded data removed]",
      "text/plain": [
       "<Figure size 720x360 with 1 Axes>"
      ]
     },
     "metadata": {},
     "output_type": "display_data"
    }
   ],
   "source": [
    "new_X_train = X_train.drop(['Parch', 'SibSp', 'Embarked'], axis=1)\n",
    "new_X_valid = X_valid.drop(['Parch', 'SibSp', 'Embarked'], axis=1)\n",
    "\n",
    "new_model = RandomForestClassifier(max_depth=9, min_samples_leaf=3, min_samples_split=15, random_state=seed)\n",
    "new_model.fit(new_X_train, y_train)\n",
    "new_ypred = new_model.predict(new_X_valid)\n",
    "\n",
    "\n",
    "print(classification_report(y_valid, new_ypred))\n",
    "print('Confusion Matrix of New model:')\n",
    "ConfusionMatrixDisplay.from_predictions(y_valid, new_ypred, colorbar = False, cmap = 'PuBu')\n",
    "plt.grid(False)"
   ]
  },
  {
   "cell_type": "markdown",
   "id": "d1efcd78",
   "metadata": {
    "papermill": {
     "duration": 0.037157,
     "end_time": "2023-03-08T07:48:41.521705",
     "exception": false,
     "start_time": "2023-03-08T07:48:41.484548",
     "status": "completed"
    },
    "tags": []
   },
   "source": [
    "* When `Parch`, `SibSp`, and `Embarked` were removed from the model, the **precision of Not Survived** (class 0) and **recall of Survived** (class 1) **improved** slightly.\n",
    "* The new model is slightly better than the original."
   ]
  },
  {
   "cell_type": "markdown",
   "id": "9db255e5",
   "metadata": {
    "papermill": {
     "duration": 0.027161,
     "end_time": "2023-03-08T07:48:41.577593",
     "exception": false,
     "start_time": "2023-03-08T07:48:41.550432",
     "status": "completed"
    },
    "tags": []
   },
   "source": [
    "# **3.3 Model Evaluation**"
   ]
  },
  {
   "cell_type": "markdown",
   "id": "f8d6989e",
   "metadata": {
    "papermill": {
     "duration": 0.028189,
     "end_time": "2023-03-08T07:48:41.633280",
     "exception": false,
     "start_time": "2023-03-08T07:48:41.605091",
     "status": "completed"
    },
    "tags": []
   },
   "source": [
    "Due to the presence of imbalanced data, model evaluation for new model are performed using **stratified k-fold cross-validation**."
   ]
  },
  {
   "cell_type": "code",
   "execution_count": 56,
   "id": "a6de0179",
   "metadata": {
    "execution": {
     "iopub.execute_input": "2023-03-08T07:48:41.689502Z",
     "iopub.status.busy": "2023-03-08T07:48:41.688874Z",
     "iopub.status.idle": "2023-03-08T07:48:42.595425Z",
     "shell.execute_reply": "2023-03-08T07:48:42.593503Z"
    },
    "papermill": {
     "duration": 0.938152,
     "end_time": "2023-03-08T07:48:42.598354",
     "exception": false,
     "start_time": "2023-03-08T07:48:41.660202",
     "status": "completed"
    },
    "tags": []
   },
   "outputs": [
    {
     "name": "stdout",
     "output_type": "stream",
     "text": [
      "For Fold 1 the accuracy is 0.86\n",
      "For Fold 2 the accuracy is 0.85\n",
      "For Fold 3 the accuracy is 0.83\n",
      "For Fold 4 the accuracy is 0.83\n",
      "For Fold 5 the accuracy is 0.85\n",
      "\n",
      "Average stratified k-fold cross-validation: 0.85\n"
     ]
    }
   ],
   "source": [
    "from sklearn.model_selection import StratifiedKFold\n",
    "skf = StratifiedKFold(n_splits=5, random_state=seed, shuffle=True)\n",
    "\n",
    "\n",
    "fold_no = 1\n",
    "for trn_idx,tst_idx in skf.split(X, y):\n",
    "    trn = train_df.iloc[trn_idx,:]\n",
    "    tst = train_df.iloc[tst_idx,:]\n",
    "    x_trn = trn.drop(['Survived', 'Parch', 'SibSp', 'Embarked'],axis=1)\n",
    "    y_trn = trn['Survived']\n",
    "    x_tst = tst.drop(['Survived', 'Parch', 'SibSp', 'Embarked'],axis=1)\n",
    "    y_tst = tst['Survived']\n",
    "    model = RandomForestClassifier(max_depth=9, min_samples_leaf=3, min_samples_split=15, random_state=seed)\n",
    "    model.fit(x_trn, y_trn)\n",
    "    score = model.score(x_tst,y_tst)\n",
    "    print('For Fold {} the accuracy is {:.2f}'.format(str(fold_no),score))\n",
    "    avg_score = score.mean()\n",
    "    fold_no += 1\n",
    "    \n",
    "print('\\nAverage stratified k-fold cross-validation: {:.2f}'.format(avg_score))"
   ]
  },
  {
   "cell_type": "markdown",
   "id": "8b5506b7",
   "metadata": {
    "papermill": {
     "duration": 0.027175,
     "end_time": "2023-03-08T07:48:42.652960",
     "exception": false,
     "start_time": "2023-03-08T07:48:42.625785",
     "status": "completed"
    },
    "tags": []
   },
   "source": [
    "# **3.4 Model Deployment**"
   ]
  },
  {
   "cell_type": "code",
   "execution_count": 57,
   "id": "b1f33b16",
   "metadata": {
    "execution": {
     "iopub.execute_input": "2023-03-08T07:48:42.708749Z",
     "iopub.status.busy": "2023-03-08T07:48:42.708337Z",
     "iopub.status.idle": "2023-03-08T07:48:42.740907Z",
     "shell.execute_reply": "2023-03-08T07:48:42.739173Z"
    },
    "papermill": {
     "duration": 0.06393,
     "end_time": "2023-03-08T07:48:42.743577",
     "exception": false,
     "start_time": "2023-03-08T07:48:42.679647",
     "status": "completed"
    },
    "tags": []
   },
   "outputs": [
    {
     "name": "stdout",
     "output_type": "stream",
     "text": [
      "<class 'pandas.core.frame.DataFrame'>\n",
      "RangeIndex: 418 entries, 0 to 417\n",
      "Data columns (total 2 columns):\n",
      " #   Column       Non-Null Count  Dtype  \n",
      "---  ------       --------------  -----  \n",
      " 0   PassengerId  418 non-null    int64  \n",
      " 1   Survived     418 non-null    float64\n",
      "dtypes: float64(1), int64(1)\n",
      "memory usage: 6.7 KB\n"
     ]
    }
   ],
   "source": [
    "test_df = (entire_df.iloc[891:]).copy()\n",
    "test_df = test_df.drop(['Survived', 'Parch', 'SibSp', 'Embarked'], axis=1)\n",
    "\n",
    "prediction = new_model.predict(test_df)\n",
    "\n",
    "submission = pd.DataFrame(test['PassengerId'], columns=['PassengerId'])\n",
    "submission['Survived'] = prediction\n",
    "\n",
    "submission.info()"
   ]
  },
  {
   "cell_type": "code",
   "execution_count": 58,
   "id": "ceabfdda",
   "metadata": {
    "execution": {
     "iopub.execute_input": "2023-03-08T07:48:42.801463Z",
     "iopub.status.busy": "2023-03-08T07:48:42.801041Z",
     "iopub.status.idle": "2023-03-08T07:48:42.811566Z",
     "shell.execute_reply": "2023-03-08T07:48:42.810331Z"
    },
    "papermill": {
     "duration": 0.042137,
     "end_time": "2023-03-08T07:48:42.814197",
     "exception": false,
     "start_time": "2023-03-08T07:48:42.772060",
     "status": "completed"
    },
    "tags": []
   },
   "outputs": [
    {
     "data": {
      "text/html": [
       "<div>\n",
       "<style scoped>\n",
       "    .dataframe tbody tr th:only-of-type {\n",
       "        vertical-align: middle;\n",
       "    }\n",
       "\n",
       "    .dataframe tbody tr th {\n",
       "        vertical-align: top;\n",
       "    }\n",
       "\n",
       "    .dataframe thead th {\n",
       "        text-align: right;\n",
       "    }\n",
       "</style>\n",
       "<table border=\"1\" class=\"dataframe\">\n",
       "  <thead>\n",
       "    <tr style=\"text-align: right;\">\n",
       "      <th></th>\n",
       "      <th>PassengerId</th>\n",
       "      <th>Survived</th>\n",
       "    </tr>\n",
       "  </thead>\n",
       "  <tbody>\n",
       "    <tr>\n",
       "      <th>0</th>\n",
       "      <td>892</td>\n",
       "      <td>0.0</td>\n",
       "    </tr>\n",
       "    <tr>\n",
       "      <th>1</th>\n",
       "      <td>893</td>\n",
       "      <td>0.0</td>\n",
       "    </tr>\n",
       "    <tr>\n",
       "      <th>2</th>\n",
       "      <td>894</td>\n",
       "      <td>0.0</td>\n",
       "    </tr>\n",
       "    <tr>\n",
       "      <th>3</th>\n",
       "      <td>895</td>\n",
       "      <td>0.0</td>\n",
       "    </tr>\n",
       "    <tr>\n",
       "      <th>4</th>\n",
       "      <td>896</td>\n",
       "      <td>1.0</td>\n",
       "    </tr>\n",
       "  </tbody>\n",
       "</table>\n",
       "</div>"
      ],
      "text/plain": [
       "   PassengerId  Survived\n",
       "0          892       0.0\n",
       "1          893       0.0\n",
       "2          894       0.0\n",
       "3          895       0.0\n",
       "4          896       1.0"
      ]
     },
     "execution_count": 58,
     "metadata": {},
     "output_type": "execute_result"
    }
   ],
   "source": [
    "submission.head() "
   ]
  },
  {
   "cell_type": "code",
   "execution_count": 59,
   "id": "bca100af",
   "metadata": {
    "execution": {
     "iopub.execute_input": "2023-03-08T07:48:42.871689Z",
     "iopub.status.busy": "2023-03-08T07:48:42.870715Z",
     "iopub.status.idle": "2023-03-08T07:48:42.880643Z",
     "shell.execute_reply": "2023-03-08T07:48:42.879139Z"
    },
    "papermill": {
     "duration": 0.041315,
     "end_time": "2023-03-08T07:48:42.883337",
     "exception": false,
     "start_time": "2023-03-08T07:48:42.842022",
     "status": "completed"
    },
    "tags": []
   },
   "outputs": [
    {
     "data": {
      "text/plain": [
       "0.0    267\n",
       "1.0    151\n",
       "Name: Survived, dtype: int64"
      ]
     },
     "execution_count": 59,
     "metadata": {},
     "output_type": "execute_result"
    }
   ],
   "source": [
    "submission['Survived'].value_counts()"
   ]
  },
  {
   "cell_type": "markdown",
   "id": "77364e98",
   "metadata": {
    "papermill": {
     "duration": 0.027345,
     "end_time": "2023-03-08T07:48:42.938841",
     "exception": false,
     "start_time": "2023-03-08T07:48:42.911496",
     "status": "completed"
    },
    "tags": []
   },
   "source": [
    "# **4.0 Submission**"
   ]
  },
  {
   "cell_type": "code",
   "execution_count": 60,
   "id": "64561c90",
   "metadata": {
    "execution": {
     "iopub.execute_input": "2023-03-08T07:48:42.996130Z",
     "iopub.status.busy": "2023-03-08T07:48:42.994983Z",
     "iopub.status.idle": "2023-03-08T07:48:43.003400Z",
     "shell.execute_reply": "2023-03-08T07:48:43.002624Z"
    },
    "papermill": {
     "duration": 0.03905,
     "end_time": "2023-03-08T07:48:43.005417",
     "exception": false,
     "start_time": "2023-03-08T07:48:42.966367",
     "status": "completed"
    },
    "tags": []
   },
   "outputs": [],
   "source": [
    "submission = submission.to_csv('titanic_submission.csv',index=False)"
   ]
  }
 ],
 "metadata": {
  "kernelspec": {
   "display_name": "Python 3",
   "language": "python",
   "name": "python3"
  },
  "language_info": {
   "codemirror_mode": {
    "name": "ipython",
    "version": 3
   },
   "file_extension": ".py",
   "mimetype": "text/x-python",
   "name": "python",
   "nbconvert_exporter": "python",
   "pygments_lexer": "ipython3",
   "version": "3.7.12"
  },
  "papermill": {
   "default_parameters": {},
   "duration": 96.301269,
   "end_time": "2023-03-08T07:48:45.654327",
   "environment_variables": {},
   "exception": null,
   "input_path": "__notebook__.ipynb",
   "output_path": "__notebook__.ipynb",
   "parameters": {},
   "start_time": "2023-03-08T07:47:09.353058",
   "version": "2.3.4"
  }
 },
 "nbformat": 4,
 "nbformat_minor": 5
}
